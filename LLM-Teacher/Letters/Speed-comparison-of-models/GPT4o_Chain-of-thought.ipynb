{
 "cells": [
  {
   "cell_type": "code",
   "execution_count": null,
   "metadata": {},
   "outputs": [],
   "source": [
    "import os\n",
    "import time\n",
    "import openai\n",
    "from dotenv import load_dotenv"
   ]
  },
  {
   "cell_type": "code",
   "execution_count": 9,
   "metadata": {},
   "outputs": [],
   "source": [
    "# Load environment variables from .env.paul\n",
    "load_dotenv(dotenv_path=\".env.paul\")\n",
    "\n",
    "# Get API key from environment\n",
    "openai.api_key = os.environ.get(\"OPENAI_API_KEY\")\n",
    "if not openai.api_key:\n",
    "    raise ValueError(\"OPENAI_API_KEY not found in .env.paul or environment.\")\n"
   ]
  },
  {
   "cell_type": "code",
   "execution_count": 10,
   "metadata": {},
   "outputs": [],
   "source": [
    "def create_prompt(sign_name: str) -> str:\n",
    "    return (\n",
    "        f\"You are an American Sign Language (ASL) teacher.\\n\\n\"\n",
    "        f\"Your task is to explain how to perform the ASL sign for the letter '{sign_name}' in a clear and simple way. Do not assume any prior knowledge about ASL \\n\\n\"\n",
    "        f\"Think step-by-step how to teach the sign for the letter “{sign_name}”. Think about handshape, orientation, and movement of the hand.\\n\"\n",
    "        f\"Think about the positions of each finger and how they should be held.\\n\\n\"\n",
    "        f\"After thinking, clearly explain how to perform the ASL sign on a beginner level for the letter '{sign_name}'.\\n\\n\"\n",
    "        f\"Only output the explanation for the requested sign once. If appropriate, use less tokens than available. Do not include any other text. Ensure that you exlusively explain the sign for the letter '{sign_name}'\\n\\n\"\n",
    "    )"
   ]
  },
  {
   "cell_type": "code",
   "execution_count": 11,
   "metadata": {},
   "outputs": [],
   "source": [
    "def generate_asl_description(sign_name: str, temperature=0.05, max_tokens=300) -> str:\n",
    "    prompt = create_prompt(sign_name)\n",
    "    \n",
    "    response = openai.chat.completions.create(\n",
    "        model=\"gpt-4o\",\n",
    "        messages=[\n",
    "            {\"role\": \"system\", \"content\": \"You are an American Sign Language (ASL) teacher.\"},\n",
    "            {\"role\": \"user\", \"content\": prompt}\n",
    "        ],\n",
    "        temperature=temperature,\n",
    "        max_tokens=max_tokens\n",
    "    )\n",
    "    \n",
    "    generated_text = response.choices[0].message.content.strip()\n",
    "    return generated_text"
   ]
  },
  {
   "cell_type": "code",
   "execution_count": 12,
   "metadata": {},
   "outputs": [
    {
     "name": "stdout",
     "output_type": "stream",
     "text": [
      "Finished in 85.59 s\n"
     ]
    }
   ],
   "source": [
    "# --- Generate all 26 ASL letter descriptions and record time ---\n",
    "start = time.perf_counter()\n",
    "\n",
    "descriptions = {\n",
    "    letter: generate_asl_description(letter).strip()\n",
    "    for letter in string.ascii_uppercase\n",
    "}\n",
    "\n",
    "elapsed = time.perf_counter() - start\n",
    "print(f\"Finished in {elapsed:.2f} s\")"
   ]
  }
 ],
 "metadata": {
  "kernelspec": {
   "display_name": "base",
   "language": "python",
   "name": "python3"
  },
  "language_info": {
   "codemirror_mode": {
    "name": "ipython",
    "version": 3
   },
   "file_extension": ".py",
   "mimetype": "text/x-python",
   "name": "python",
   "nbconvert_exporter": "python",
   "pygments_lexer": "ipython3",
   "version": "3.12.4"
  }
 },
 "nbformat": 4,
 "nbformat_minor": 2
}
