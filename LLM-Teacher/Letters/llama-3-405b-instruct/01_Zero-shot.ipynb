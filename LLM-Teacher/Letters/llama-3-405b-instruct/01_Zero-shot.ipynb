{
 "cells": [
  {
   "cell_type": "code",
   "execution_count": 15,
   "metadata": {},
   "outputs": [],
   "source": [
    "import pandas as pd\n",
    "import json, re\n",
    "import matplotlib.pyplot as plt\n",
    "from ibm_watsonx_ai import Credentials, APIClient\n",
    "from ibm_watsonx_ai.foundation_models import ModelInference\n",
    "from ibm_watsonx_ai.foundation_models.schema import TextGenParameters\n",
    "from decouple import Config, RepositoryEnv"
   ]
  },
  {
   "cell_type": "code",
   "execution_count": 16,
   "metadata": {},
   "outputs": [],
   "source": [
    "# Load the environment variables using python-decouple\n",
    "# The .env file should be in the root of the project\n",
    "# The .env file should NOT be committed to the repository\n",
    "\n",
    "config = Config(RepositoryEnv(\".env.paul\"))\n",
    "\n",
    "# Load the credentials\n",
    "WX_API_KEY = config(\"WX_API_KEY\")"
   ]
  },
  {
   "cell_type": "code",
   "execution_count": 17,
   "metadata": {},
   "outputs": [],
   "source": [
    "credentials = Credentials(\n",
    "    url = \"https://us-south.ml.cloud.ibm.com\",\n",
    "    api_key = WX_API_KEY\n",
    ")\n",
    "client = APIClient(\n",
    "    credentials=credentials, \n",
    "    project_id=\"68126b74-155e-4a70-aa2c-1781dfad87f6\"\n",
    ")"
   ]
  },
  {
   "cell_type": "code",
   "execution_count": 18,
   "metadata": {},
   "outputs": [],
   "source": [
    "# --- Setup the Model ---\n",
    "params = TextGenParameters(\n",
    "    temperature=0.05,           # Light creativity\n",
    "    max_new_tokens=300          # Enough for descriptive text\n",
    ")\n",
    "\n",
    "model = ModelInference(\n",
    "    api_client=client,\n",
    "    params=params,\n",
    "    model_id=\"meta-llama/llama-4-scout-17b-16e-instruct\"\n",
    ")"
   ]
  },
  {
   "cell_type": "code",
   "execution_count": 19,
   "metadata": {},
   "outputs": [],
   "source": [
    "def create_prompt(sign_name: str) -> str:\n",
    "    return (\n",
    "        f\"You are an American Sign Language (ASL) teacher.\\n\\n\"\n",
    "        f\"Please clearly explain how to perform the ASL sign on a beginner level for the letter '{sign_name}'. \"\n",
    "        f\"Use simple language and full sentences. Do not assume any prior knowledge about ASL.\\n\\n\"\n",
    "        f\"Only output the explanation. Do not include any other text. If appropriate, use less tokens than available.\\n\\n\"\n",
    "    )\n"
   ]
  },
  {
   "cell_type": "code",
   "execution_count": 20,
   "metadata": {},
   "outputs": [],
   "source": [
    "# --- Generate ASL Description ---\n",
    "def generate_asl_description(sign_name: str) -> str:\n",
    "    prompt = create_prompt(sign_name)\n",
    "    \n",
    "    response = model.generate(prompt=prompt)\n",
    "    generated_text = response['results'][0]['generated_text']\n",
    "    \n",
    "    return generated_text"
   ]
  },
  {
   "cell_type": "markdown",
   "metadata": {},
   "source": [
    "Judge"
   ]
  },
  {
   "cell_type": "code",
   "execution_count": 21,
   "metadata": {},
   "outputs": [],
   "source": [
    "# Separate model instance for evaluation (judge), we are always using llama-3-3-70b-instruct based on literature review\n",
    "params = TextGenParameters(\n",
    "    temperature=0.01,\n",
    "    max_new_tokens=100,\n",
    ")\n",
    "\n",
    "\n",
    "judge_model = ModelInference(\n",
    "    api_client=client,\n",
    "    params=params, \n",
    "    model_id=\"meta-llama/llama-3-405b-instruct\",\n",
    ")"
   ]
  },
  {
   "cell_type": "markdown",
   "metadata": {},
   "source": [
    "Mass evaluation"
   ]
  },
  {
   "cell_type": "code",
   "execution_count": 22,
   "metadata": {},
   "outputs": [],
   "source": [
    "def create_comparison_judge_prompt(sign_name: str, generated_description: str, expected_description: str, guardrails=\"json\") -> str:\n",
    "    return f\"\"\"You are evaluating the quality of a generated ASL sign description based on 3 criteria by comparing it to a ground truth.\n",
    "\n",
    "Sign: \"{sign_name}\"\n",
    "\n",
    "Expected (ground truth) description:\n",
    "\"{expected_description}\"\n",
    "\n",
    "Generated description:\n",
    "\"{generated_description}\"\n",
    "\n",
    "The criteria are:\n",
    "1. Faithfulness: The content of the generated description can be interfered from the content of the ground truth.\n",
    "2. Answer Relevance: The generated description specifically and sufficiently describes the requested sign.\n",
    "3. Context Relevance: The generated description exclusively contains information that is needed to describe the sign.\n",
    "\n",
    "Grade each criterion from 0 to 1:\n",
    "- 1 - The generated description fully meets the criterion\n",
    "- 0.5 - The generated description partially meets the criterion\n",
    "- 0 - The generated description does not meet the criterion\n",
    "\n",
    "Do not downgrade the generated description for variation in wording or style. \n",
    "\n",
    "Here are a few examples of how to answer:\n",
    "- example 1:\n",
    "  - expected description \"Thumb: Resting at side or across curled fingers. Index: Bent to form a hook. Middle: Folded into palm. Ring: Folded into palm. Pinky: Folded into palm. Palm Orientation: Facing forward. Movement: None. Note: Hooked finger mimics 'X'.\"\n",
    "  - generated description \"To sign the letter X in American Sign Language (ASL), make a fist with your dominant hand. Extend your index finger and bend only the tip forward to form a small hook. Face your palm forward so the hooked index finger is visible\"\n",
    "  - response: \"faithfulness\": 1, \"answer_relevance\": 1, \"context_relevance\": 1\n",
    "- example 2:\n",
    "  - expected description \"Thumb: Resting at side or across curled fingers. Index: Bent to form a hook. Middle: Folded into palm. Ring: Folded into palm. Pinky: Folded into palm. Palm Orientation: Facing forward. Movement: None. Note: Hooked finger mimics 'X'.\"\n",
    "  - generated description \"Dance in a circle like you never danced before.\"\n",
    "  - response: \"faithfulness\": 0, \"answer_relevance\": 0, \"context_relevance\": 0\n",
    "- example 3:\n",
    "  - expected description \"Thumb: Resting at side or across curled fingers. Index: Bent to form a hook. Middle: Folded into palm. Ring: Folded into palm. Pinky: Folded into palm. Palm Orientation: Facing forward. Movement: None. Note: Hooked finger mimics 'X'.\"\n",
    "  - generated description \"To sign the letter X in American Sign Language (ASL), make a fist with your dominant hand. Extend your index finger and bend only the tip forward to form a small hook.\"\n",
    "  - response: \"faithfulness\": 1, \"answer_relevance\": 1, \"context_relevance\": 1\n",
    "- example 4:\n",
    "  - expected description \"Thumb: Resting at side or across curled fingers. Index: Bent to form a hook. Middle: Folded into palm. Ring: Folded into palm. Pinky: Folded into palm. Palm Orientation: Facing forward. Movement: None. Note: Hooked finger mimics 'X'.\"\n",
    "  - generated description \"Hello user, this is a great question. I also love to make the sign for the letter 'X'. To sign the letter X in American Sign Language (ASL), make a fist with your dominant hand. Extend your index finger and bend only the tip forward to form a small hook.\"\n",
    "  - response: \"faithfulness\": 0.5, \"answer_relevance\": 1, \"context_relevance\": 0.5\n",
    "- example 5:\n",
    "  - expected description Thumb: Resting at side or across curled fingers. Index: Bent to form a hook. Middle: Folded into palm. Ring: Folded into palm. Pinky: Folded into palm. Palm Orientation: Facing forward. Movement: None. Note: Hooked finger mimics 'X'.\"\n",
    "  - generated description \"To sign the letter X in American Sign Language (ASL), make a fist with your dominant hand and extend your index finger\"\n",
    "  - response: \"faithfulness\": 1, \"answer_relevance\": 0.5, \"context_relevance\": 1\n",
    "- example 6:\n",
    "  - expected description \"Thumb: Resting at side or across curled fingers. Index: Bent to form a hook. Middle: Folded into palm. Ring: Folded into palm. Pinky: Folded into palm. Palm Orientation: Facing forward. Movement: None. Note: Hooked finger mimics 'X'.\"\n",
    "  - generated description \"To sign the letter X in American Sign Language (ASL), make a fist with your dominant hand. Extend your index finger and bend only the tip forward to form a small hook. Keep your thumb resting against the side of your curled middle finger. The middle, ring, and pinky fingers stay curled into the palm. There is no movement; the hand remains still\"\n",
    "  - response: \"faithfulness\": 1, \"answer_relevance\": 1, \"context_relevance\": 0.5\n",
    "\n",
    "Think carefully for each criterion before answering.\n",
    "\n",
    "Respond only in the following format, enclosed within <output> tags:\n",
    "\n",
    "<output>\n",
    "{{\n",
    "  \"faithfulness\": <0, 0.5, or 1>,\n",
    "  \"answer_relevance\": <0, 0.5, or 1>,\n",
    "  \"context_relevance\": <0, 0.5, or 1>\n",
    "}}\n",
    "</output>\n",
    "\"\"\"\n"
   ]
  },
  {
   "cell_type": "code",
   "execution_count": 23,
   "metadata": {},
   "outputs": [],
   "source": [
    "def evaluate_against_ground_truth(sign_name: str, generated_description: str, expected_description: str) -> dict:\n",
    "    prompt = create_comparison_judge_prompt(sign_name, generated_description, expected_description)\n",
    "\n",
    "    def try_parse_response(response_text: str) -> dict:\n",
    "        result = {\n",
    "            \"faithfulness\": None,\n",
    "            \"answer_relevance\": None,\n",
    "            \"context_relevance\": None\n",
    "        }\n",
    "\n",
    "        # Try direct parse\n",
    "        try:\n",
    "            # Strip leading text if any\n",
    "            json_start = response_text.find(\"{\")\n",
    "            if json_start != -1:\n",
    "                response_text = response_text[json_start:]\n",
    "\n",
    "            parsed = json.loads(response_text)\n",
    "            if isinstance(parsed, dict):\n",
    "                result.update(parsed)\n",
    "                return result\n",
    "        except Exception:\n",
    "            pass\n",
    "\n",
    "        # Try fallback regex\n",
    "        matches = re.findall(r\"\\{.*?\\}\", response_text, re.DOTALL)\n",
    "        for match in matches:\n",
    "            try:\n",
    "                parsed = json.loads(match)\n",
    "                if isinstance(parsed, dict):\n",
    "                    result.update(parsed)\n",
    "                    return result\n",
    "            except Exception as e:\n",
    "                continue\n",
    "\n",
    "        return result  # fallback with None values if all fails\n",
    "\n",
    "    # First attempt\n",
    "    response = judge_model.generate(prompt=prompt)\n",
    "    judged_text = response['results'][0]['generated_text']\n",
    "    result = try_parse_response(judged_text)\n",
    "\n",
    "    # Retry once if parsing failed\n",
    "    if any(v is None for v in result.values()):\n",
    "        print(f\" First parse failed for sign '{sign_name}', retrying once...\")\n",
    "        response_retry = judge_model.generate(prompt=prompt)\n",
    "        judged_text_retry = response_retry['results'][0]['generated_text']\n",
    "        result = try_parse_response(judged_text_retry)\n",
    "\n",
    "    # Final message if still failing\n",
    "    if any(v is None for v in result.values()):\n",
    "        print(f\" Failed to parse JSON after retry for sign: '{sign_name}'.\")\n",
    "\n",
    "    return result\n"
   ]
  },
  {
   "cell_type": "code",
   "execution_count": 24,
   "metadata": {},
   "outputs": [
    {
     "name": "stdout",
     "output_type": "stream",
     "text": [
      " First parse failed for sign 'hello', retrying once...\n",
      " Failed to parse JSON after retry for sign: 'hello'.\n",
      "\n",
      "Judge Result:\n",
      "Faithfulness: None\n",
      "Answer Relevance: None\n",
      "Context Relevance: None\n"
     ]
    }
   ],
   "source": [
    "#Testing judge with manual input\n",
    "sign = \"hello\"\n",
    "expected = \"Begin with the side of your index finger against your forehead and then move your hand up and away from your head.\"\n",
    "generated = \"Start with the side of your index touching your forehead, then extend your pinky\"\n",
    "\n",
    "scores = evaluate_against_ground_truth(sign, generated, expected)\n",
    "\n",
    "print(\"\\nJudge Result:\")\n",
    "print(f\"Faithfulness: {scores['faithfulness']}\")\n",
    "print(f\"Answer Relevance: {scores['answer_relevance']}\")\n",
    "print(f\"Context Relevance: {scores['context_relevance']}\")"
   ]
  },
  {
   "cell_type": "code",
   "execution_count": 25,
   "metadata": {},
   "outputs": [],
   "source": [
    "test_data = [\n",
    "    {\"sign\": \"A\", \"expected\": \"Thumb: Curled alongside the side of the index finger, resting against it. Index: Bent downward into the palm, creating a firm curve. Middle: Bent downward in line with the index. Ring: Bent downward. Pinky: Bent downward. Palm Orientation: Facing forward (away from your body). Wrist/Forearm: Neutral position; elbow bent naturally. Movement: None. Note: Represents the shape of a capital 'A'.\"},\n",
    "    {\"sign\": \"B\", \"expected\": \"Thumb: Folded tightly across the center of the palm, held flat. Index: Extended straight up and held close to the middle finger. Middle: Extended straight up next to the index finger. Ring: Extended straight up next to the middle finger. Pinky: Extended straight up, close to the ring finger. Palm Orientation: Facing forward. Wrist/Forearm: Upright, fingers vertical. Movement: None. Note: Resembles the vertical line of the letter 'B'.\"},\n",
    "    {\"sign\": \"C\", \"expected\": \"Thumb: Curved naturally to oppose the fingers and help form a half-circle. Index: Curved downward and to the side to help form the top of the 'C'. Middle: Curved to follow the shape created by the index. Ring: Curved in alignment with the rest to form the side of the 'C'. Pinky: Curved slightly to close the 'C' shape. Palm Orientation: Slightly angled outward (to mimic letter curvature). Wrist/Forearm: Slight bend at wrist to angle the 'C'. Movement: None. Note: Entire hand forms a visible capital letter 'C'.\"},\n",
    "    {\"sign\": \"D\", \"expected\": \"Thumb: Pads rest against the tips of the middle, ring, and pinky fingers. Index: Fully extended upward and isolated from other fingers. Middle: Curved downward to meet the thumb. Ring: Curved downward to meet the thumb. Pinky: Curved downward to meet the thumb. Palm Orientation: Facing forward. Wrist/Forearm: Neutral vertical. Movement: None. Note: Mimics the shape of a capital 'D' with the index as the upright line.\"},\n",
    "    {\"sign\": \"E\", \"expected\": \"Thumb: Pressed against the palm and touching curled fingers from below. Index: Curled downward toward the palm to meet the thumb. Middle: Curled downward toward the palm. Ring: Curled downward toward the palm. Pinky: Curled downward toward the palm. Palm Orientation: Facing forward. Wrist: Neutral or slightly rotated outward. Movement: None. Note: Shape resembles the loop and middle bar of the letter 'E'.\"},\n",
    "    {\"sign\": \"F\", \"expected\": \"Thumb: Touches tip of the index finger to form a closed circle. Index: Touches the thumb to complete the circle. Middle: Extended straight up and relaxed, slightly separated. Ring: Extended straight up and relaxed, slightly separated. Pinky: Extended straight up and relaxed, slightly separated. Palm Orientation: Facing forward. Wrist: Neutral to slightly outward. Movement: None. Note: The circle represents the opening in the letter 'F'.\"},\n",
    "    {\"sign\": \"G\", \"expected\": \"Thumb: Extended sideways, parallel to index. Index: Extended sideways, forming a flat, straight line with thumb. Middle: Folded inward against the palm. Ring: Folded inward against the palm. Pinky: Folded inward against the palm. Palm Orientation: Inward (side of hand faces viewer). Wrist: Horizontal; hand like a gun shape. Movement: None. Note: Emulates the lower stroke of a 'G'.\"},\n",
    "    {\"sign\": \"H\", \"expected\": \"Thumb: Tucked over curled ring and pinky. Index: Extended to the side. Middle: Extended to the side, beside index. Ring: Curled tightly in palm. Pinky: Curled tightly in palm. Palm Orientation: Facing down or slightly out. Wrist: Flat or slightly turned. Movement: None. Note: Represents two parallel lines, like a sideways 'H'.\"},\n",
    "    {\"sign\": \"I\", \"expected\": \"Thumb: Folded across or tucked alongside curled fingers. Index: Curled into the palm. Middle: Curled into the palm. Ring: Curled into the palm. Pinky: Extended straight up. Palm Orientation: Facing forward. Wrist: Neutral vertical. Movement: None. Note: Pinky alone resembles a lowercase 'i'.\"},\n",
    "    {\"sign\": \"J\", \"expected\": \"Thumb: Folded against curled fingers. Index: Curled into the palm. Middle: Curled into the palm. Ring: Curled into the palm. Pinky: Extended and used to trace a 'J' in the air. Palm Orientation: Starts forward, rotates slightly. Movement: Trace 'J' downward, left, then up. Note: Motion is essential to identify this as 'J'.\"},\n",
    "    {\"sign\": \"K\", \"expected\": \"Thumb: Between index and middle fingers, touching base of middle. Index: Extended diagonally upward. Middle: Extended diagonally upward, apart from index. Ring: Curled into palm. Pinky: Curled into palm. Palm Orientation: Facing out or slightly angled. Wrist: Upright or angled. Movement: None. Note: Mimics the open shape of the letter 'K'.\"},\n",
    "    {\"sign\": \"L\", \"expected\": \"Thumb: Extended horizontally. Index: Extended vertically. Middle: Curled into palm. Ring: Curled into palm. Pinky: Curled into palm. Palm Orientation: Facing forward. Wrist: Upright. Movement: None. Note: Clearly forms a visual 'L'.\"},\n",
    "    {\"sign\": \"M\", \"expected\": \"Thumb: Tucked under index, middle, and ring fingers. Index: Folded over the thumb. Middle: Folded over the thumb. Ring: Folded over the thumb. Pinky: Curled beside ring or relaxed. Palm Orientation: Facing out. Wrist: Neutral. Movement: None. Note: Three fingers over thumb = 3 strokes = 'M'.\"},\n",
    "    {\"sign\": \"N\", \"expected\": \"Thumb: Tucked under index and middle fingers. Index: Folded over thumb. Middle: Folded over thumb. Ring: Folded into palm. Pinky: Folded into palm. Palm Orientation: Facing out. Movement: None. Note: Two fingers over thumb = 2 strokes = 'N'.\"},\n",
    "    {\"sign\": \"O\", \"expected\": \"Thumb: Curved inward to meet fingertips. Index: Curved downward to meet thumb. Middle: Curved downward to meet thumb. Ring: Curved downward to meet thumb. Pinky: Curved downward to meet thumb. Palm Orientation: Facing forward. Wrist: Upright or slightly turned. Movement: None. Note: Clear circular 'O' shape.\"},\n",
    "    {\"sign\": \"P\", \"expected\": \"Thumb: Between and touching middle finger. Index: Extended downward and slightly angled. Middle: Extended and separated from index. Ring: Folded into the palm. Pinky: Folded into the palm. Palm Orientation: Tilted downward. Wrist: Bent downward. Movement: None. Note: Downward angle distinguishes from K.\"},\n",
    "    {\"sign\": \"Q\", \"expected\": \"Thumb: Parallel to index. Index: Points downward. Middle: Curled into palm. Ring: Curled into palm. Pinky: Curled into palm. Palm Orientation: Downward. Wrist: Bent downward. Movement: None. Note: Like G but rotated to point down.\"},\n",
    "    {\"sign\": \"R\", \"expected\": \"Thumb: Resting against curled fingers. Index: Crossed over middle finger tightly. Middle: Crossed under index. Ring: Folded into palm. Pinky: Folded into palm. Palm Orientation: Facing forward. Movement: None. Note: Finger crossing symbolizes 'R'.\"},\n",
    "    {\"sign\": \"S\", \"expected\": \"Thumb: Crossed tightly over the front of curled fingers. Index: Curled into a fist. Middle: Curled into a fist. Ring: Curled into a fist. Pinky: Curled into a fist. Palm Orientation: Facing forward. Wrist: Upright. Movement: None. Note: Fist shape resembles bold 'S'.\"},\n",
    "    {\"sign\": \"T\", \"expected\": \"Thumb: Inserted between index and middle fingers. Index: Curled downward over the thumb. Middle: Curled downward over the thumb. Ring: Curled into the palm. Pinky: Curled into the palm. Palm Orientation: Facing forward. Movement: None. Note: Thumb poking between fingers resembles old-style 'T'.\"},\n",
    "    {\"sign\": \"U\", \"expected\": \"Thumb: Folded against palm. Index: Extended straight upward. Middle: Extended straight upward, held together with index. Ring: Folded into the palm. Pinky: Folded into the palm. Palm Orientation: Facing forward. Movement: None. Note: Two fingers = 2 strokes of 'U'.\"},\n",
    "    {\"sign\": \"V\", \"expected\": \"Thumb: Folded in or at side. Index: Extended upward. Middle: Extended upward, spread apart from index. Ring: Folded into palm. Pinky: Folded into palm. Palm Orientation: Facing forward. Movement: None. Note: Clear 'V' shape.\"},\n",
    "    {\"sign\": \"W\", \"expected\": \"Thumb: Tucked or relaxed. Index: Extended upward. Middle: Extended upward. Ring: Extended upward, spread slightly. Pinky: Folded into the palm. Palm Orientation: Facing forward. Movement: None. Note: Three fingers = 'W'.\"},\n",
    "    {\"sign\": \"X\", \"expected\": \"Thumb: Resting at side or across curled fingers. Index: Bent to form a hook. Middle: Folded into palm. Ring: Folded into palm. Pinky: Folded into palm. Palm Orientation: Facing forward. Movement: None. Note: Hooked finger mimics 'X'.\"},\n",
    "    {\"sign\": \"Y\", \"expected\": \"Thumb: Extended sideways. Index: Folded into palm. Middle: Folded into palm. Ring: Folded into palm. Pinky: Extended in opposite direction from thumb. Palm Orientation: Facing forward. Movement: None. Note: Thumb and pinky spread = 'Y' shape.\"},\n",
    "    {\"sign\": \"Z\", \"expected\": \"Thumb: Folded against curled fingers or at the side. Index: Extended and used to draw a 'Z' in the air. Middle: Curled into palm. Ring: Curled into palm. Pinky: Curled into palm. Palm Orientation: Faces slightly forward, rotating with the movement. Movement: Trace 'Z' in air from top-left to bottom-right.\"}\n",
    "]\n"
   ]
  },
  {
   "cell_type": "code",
   "execution_count": null,
   "metadata": {},
   "outputs": [
    {
     "name": "stdout",
     "output_type": "stream",
     "text": [
      "\n",
      "1. Evaluating sign: A\n",
      "\n",
      "2. Evaluating sign: B\n",
      " First parse failed for sign 'B', retrying once...\n",
      " Failed to parse JSON after retry for sign: 'B'.\n",
      "\n",
      "3. Evaluating sign: C\n",
      " First parse failed for sign 'C', retrying once...\n",
      " Failed to parse JSON after retry for sign: 'C'.\n",
      "\n",
      "4. Evaluating sign: D\n",
      " First parse failed for sign 'D', retrying once...\n",
      " Failed to parse JSON after retry for sign: 'D'.\n",
      "\n",
      "5. Evaluating sign: E\n",
      " First parse failed for sign 'E', retrying once...\n",
      " Failed to parse JSON after retry for sign: 'E'.\n",
      "\n",
      "6. Evaluating sign: F\n",
      " First parse failed for sign 'F', retrying once...\n",
      " Failed to parse JSON after retry for sign: 'F'.\n",
      "\n",
      "7. Evaluating sign: G\n",
      " First parse failed for sign 'G', retrying once...\n",
      " Failed to parse JSON after retry for sign: 'G'.\n",
      "\n",
      "8. Evaluating sign: H\n",
      " First parse failed for sign 'H', retrying once...\n",
      " Failed to parse JSON after retry for sign: 'H'.\n",
      "\n",
      "9. Evaluating sign: I\n",
      " First parse failed for sign 'I', retrying once...\n",
      " Failed to parse JSON after retry for sign: 'I'.\n",
      "\n",
      "10. Evaluating sign: J\n",
      "\n",
      "11. Evaluating sign: K\n"
     ]
    }
   ],
   "source": [
    "# Store all scores\n",
    "all_scores = []\n",
    "\n",
    "# counter to indictae progress of the evaluation\n",
    "i=0\n",
    "\n",
    "for entry in test_data:\n",
    "    i=i+1\n",
    "    print(f\"\\n{i}. Evaluating sign: {entry['sign']}\")\n",
    "    sign = entry[\"sign\"]\n",
    "    expected = entry[\"expected\"]\n",
    "\n",
    "    # Generate from LLM\n",
    "    generated = generate_asl_description(sign)\n",
    "\n",
    "    # Judge against expected\n",
    "    scores = evaluate_against_ground_truth(sign, generated, expected)\n",
    "\n",
    "    all_scores.append(scores)\n",
    "\n",
    "# Compute and print average for each metric\n",
    "print(\"\\nAverage Scores:\")\n",
    "faithfulness_avg = sum(s[\"faithfulness\"] for s in all_scores if s[\"faithfulness\"] is not None) / len(all_scores)\n",
    "print(f\"Faithfulness: {faithfulness_avg:.2f}\")\n",
    "relevance_avg = sum(s[\"answer_relevance\"] for s in all_scores if s[\"answer_relevance\"] is not None) / len(all_scores)\n",
    "print(f\"Answer Relevance: {relevance_avg:.2f}\")\n",
    "context_avg = sum(s[\"context_relevance\"] for s in all_scores if s[\"context_relevance\"] is not None) / len(all_scores)\n",
    "print(f\"Context Relevance: {context_avg:.2f}\")"
   ]
  },
  {
   "cell_type": "code",
   "execution_count": null,
   "metadata": {},
   "outputs": [
    {
     "data": {
      "image/png": "[encoded data removed]",
      "text/plain": [
       "<Figure size 640x480 with 1 Axes>"
      ]
     },
     "metadata": {},
     "output_type": "display_data"
    }
   ],
   "source": [
    "# Plot\n",
    "labels = [\"Faithfulness\", \"Answer Relevance\", \"Context Relevance\"]\n",
    "values = [faithfulness_avg, relevance_avg, context_avg]\n",
    "\n",
    "_, ax = plt.subplots()\n",
    "ax.bar(labels, values)\n",
    "ax.set_ylim(0, 1)\n",
    "ax.set_ylabel(\"Average Score\")\n",
    "ax.set_xlabel(\"Evaluation Metric\")\n",
    "ax.set_title(\"ASL Evaluation Scores\")\n",
    "plt.show()"
   ]
  }
 ],
 "metadata": {
  "kernelspec": {
   "display_name": "aiml25-ma2",
   "language": "python",
   "name": "python3"
  },
  "language_info": {
   "codemirror_mode": {
    "name": "ipython",
    "version": 3
   },
   "file_extension": ".py",
   "mimetype": "text/x-python",
   "name": "python",
   "nbconvert_exporter": "python",
   "pygments_lexer": "ipython3",
   "version": "3.11.11"
  }
 },
 "nbformat": 4,
 "nbformat_minor": 2
}
