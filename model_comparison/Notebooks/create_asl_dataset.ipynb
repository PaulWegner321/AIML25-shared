{
 "cells": [
  {
   "cell_type": "markdown",
   "metadata": {},
   "source": [
    "# ASL Dataset Creation Tool\n",
    "\n",
    "This notebook demonstrates a tool for creating an American Sign Language (ASL) image dataset using a webcam. The tool captures images of hand signs for each letter of the alphabet and automatically:\n",
    "\n",
    "1. Creates original images\n",
    "2. Creates horizontally flipped versions (data augmentation)\n",
    "3. Creates grayscale versions\n",
    "4. Organizes all images in a structured directory hierarchy\n",
    "\n",
    "This automated approach allows for quick creation of a comprehensive ASL dataset for training machine learning models."
   ]
  },
  {
   "cell_type": "code",
   "execution_count": 2,
   "metadata": {},
   "outputs": [],
   "source": [
    "import os\n",
    "import cv2\n",
    "import numpy as np\n",
    "import time\n",
    "from datetime import datetime\n",
    "import logging"
   ]
  },
  {
   "cell_type": "markdown",
   "metadata": {},
   "source": [
    "## Set Up Logging and Define Dataset Structure"
   ]
  },
  {
   "cell_type": "code",
   "execution_count": 3,
   "metadata": {},
   "outputs": [],
   "source": [
    "# Set up logging\n",
    "logging.basicConfig(level=logging.INFO, format='%(asctime)s - %(levelname)s - %(message)s')\n",
    "\n",
    "# Define the dataset structure\n",
    "BASE_DIR = \"data\"\n",
    "LETTERS = list(\"ABCDEFGHIJKLMNOPQRSTUVWXYZ\")"
   ]
  },
  {
   "cell_type": "markdown",
   "metadata": {},
   "source": [
    "## Directory Setup Function\n",
    "\n",
    "This function ensures that all necessary directories for the dataset are created."
   ]
  },
  {
   "cell_type": "code",
   "execution_count": 4,
   "metadata": {},
   "outputs": [],
   "source": [
    "def setup_directories():\n",
    "    \"\"\"Create the necessary directories for the dataset.\"\"\"\n",
    "    if not os.path.exists(BASE_DIR):\n",
    "        os.makedirs(BASE_DIR)\n",
    "        logging.info(f\"Created base directory: {BASE_DIR}\")\n",
    "    \n",
    "    for letter in LETTERS:\n",
    "        letter_dir = os.path.join(BASE_DIR, letter)\n",
    "        if not os.path.exists(letter_dir):\n",
    "            os.makedirs(letter_dir)\n",
    "            logging.info(f\"Created directory for letter: {letter}\")"
   ]
  },
  {
   "cell_type": "markdown",
   "metadata": {},
   "source": [
    "## Execute Directory Setup\n",
    "\n",
    "We'll run the setup function to create the directory structure."
   ]
  },
  {
   "cell_type": "code",
   "execution_count": 8,
   "metadata": {},
   "outputs": [
    {
     "name": "stderr",
     "output_type": "stream",
     "text": [
      "2025-05-13 08:51:53,480 - INFO - Created base directory: data\n",
      "2025-05-13 08:51:53,481 - INFO - Created directory for letter: A\n",
      "2025-05-13 08:51:53,482 - INFO - Created directory for letter: B\n",
      "2025-05-13 08:51:53,483 - INFO - Created directory for letter: C\n",
      "2025-05-13 08:51:53,484 - INFO - Created directory for letter: D\n",
      "2025-05-13 08:51:53,485 - INFO - Created directory for letter: E\n",
      "2025-05-13 08:51:53,486 - INFO - Created directory for letter: F\n",
      "2025-05-13 08:51:53,487 - INFO - Created directory for letter: G\n",
      "2025-05-13 08:51:53,488 - INFO - Created directory for letter: H\n",
      "2025-05-13 08:51:53,489 - INFO - Created directory for letter: I\n",
      "2025-05-13 08:51:53,489 - INFO - Created directory for letter: J\n",
      "2025-05-13 08:51:53,491 - INFO - Created directory for letter: K\n",
      "2025-05-13 08:51:53,492 - INFO - Created directory for letter: L\n",
      "2025-05-13 08:51:53,492 - INFO - Created directory for letter: M\n",
      "2025-05-13 08:51:53,493 - INFO - Created directory for letter: N\n",
      "2025-05-13 08:51:53,494 - INFO - Created directory for letter: O\n",
      "2025-05-13 08:51:53,495 - INFO - Created directory for letter: P\n",
      "2025-05-13 08:51:53,496 - INFO - Created directory for letter: Q\n",
      "2025-05-13 08:51:53,497 - INFO - Created directory for letter: R\n",
      "2025-05-13 08:51:53,498 - INFO - Created directory for letter: S\n",
      "2025-05-13 08:51:53,499 - INFO - Created directory for letter: T\n",
      "2025-05-13 08:51:53,500 - INFO - Created directory for letter: U\n",
      "2025-05-13 08:51:53,501 - INFO - Created directory for letter: V\n",
      "2025-05-13 08:51:53,501 - INFO - Created directory for letter: W\n",
      "2025-05-13 08:51:53,502 - INFO - Created directory for letter: X\n",
      "2025-05-13 08:51:53,503 - INFO - Created directory for letter: Y\n",
      "2025-05-13 08:51:53,504 - INFO - Created directory for letter: Z\n"
     ]
    }
   ],
   "source": [
    "# Execute the setup_directories function\n",
    "setup_directories()"
   ]
  },
  {
   "cell_type": "markdown",
   "metadata": {},
   "source": [
    "## Image Saving Function\n",
    "\n",
    "This function handles saving the captured images in three formats: original, flipped, and grayscale."
   ]
  },
  {
   "cell_type": "code",
   "execution_count": 9,
   "metadata": {},
   "outputs": [],
   "source": [
    "def save_image(image, letter, index):\n",
    "    \"\"\"Save the original, flipped, and grayscale versions of the image.\"\"\"\n",
    "    timestamp = datetime.now().strftime(\"%Y%m%d_%H%M%S\")\n",
    "    \n",
    "    # Save original image\n",
    "    original_path = os.path.join(BASE_DIR, letter, f\"{letter}_{index}_{timestamp}.jpg\")\n",
    "    cv2.imwrite(original_path, image)\n",
    "    logging.info(f\"Saved original image: {original_path}\")\n",
    "    \n",
    "    # Save flipped image\n",
    "    flipped_image = cv2.flip(image, 1)  # 1 for horizontal flip\n",
    "    flipped_path = os.path.join(BASE_DIR, letter, f\"{letter}_{index}_{timestamp}_flipped.jpg\")\n",
    "    cv2.imwrite(flipped_path, flipped_image)\n",
    "    logging.info(f\"Saved flipped image: {flipped_path}\")\n",
    "    \n",
    "    # Save grayscale image\n",
    "    grayscale_image = cv2.cvtColor(image, cv2.COLOR_BGR2GRAY)\n",
    "    grayscale_path = os.path.join(BASE_DIR, letter, f\"{letter}_{index}_{timestamp}_grayscale.jpg\")\n",
    "    cv2.imwrite(grayscale_path, grayscale_image)\n",
    "    logging.info(f\"Saved grayscale image: {grayscale_path}\")\n",
    "    \n",
    "    return index + 1"
   ]
  },
  {
   "cell_type": "markdown",
   "metadata": {},
   "source": [
    "## Test Image Saving"
   ]
  },
  {
   "cell_type": "code",
   "execution_count": 10,
   "metadata": {},
   "outputs": [
    {
     "name": "stderr",
     "output_type": "stream",
     "text": [
      "2025-05-13 08:51:53,531 - INFO - Saved original image: data/A/A_0_20250513_085153.jpg\n",
      "2025-05-13 08:51:53,534 - INFO - Saved flipped image: data/A/A_0_20250513_085153_flipped.jpg\n",
      "2025-05-13 08:51:53,536 - INFO - Saved grayscale image: data/A/A_0_20250513_085153_grayscale.jpg\n"
     ]
    },
    {
     "data": {
      "text/plain": [
       "1"
      ]
     },
     "execution_count": 10,
     "metadata": {},
     "output_type": "execute_result"
    }
   ],
   "source": [
    "# Create a sample image (normally this would come from the webcam)\n",
    "sample_image = np.ones((480, 640, 3), dtype=np.uint8) * 200  # Light gray image\n",
    "# Draw a black \"A\" shape on the image\n",
    "cv2.line(sample_image, (320, 200), (280, 400), (0, 0, 0), 10)  # Left diagonal\n",
    "cv2.line(sample_image, (320, 200), (360, 400), (0, 0, 0), 10)  # Right diagonal\n",
    "cv2.line(sample_image, (300, 300), (340, 300), (0, 0, 0), 10)  # Horizontal bar\n",
    "\n",
    "# Test saving the image for letter \"A\"\n",
    "save_image(sample_image, \"A\", 0)"
   ]
  },
  {
   "cell_type": "markdown",
   "metadata": {},
   "source": [
    "## Main Capture Function\n",
    "\n",
    "This function sets up the webcam, displays a real-time view, and captures images when specific keys are pressed."
   ]
  },
  {
   "cell_type": "code",
   "execution_count": 13,
   "metadata": {},
   "outputs": [],
   "source": [
    "def capture_dataset():\n",
    "    \"\"\"Capture ASL signs from the camera and save them to the dataset.\"\"\"\n",
    "    setup_directories()\n",
    "    \n",
    "    # Initialize camera\n",
    "    cap = cv2.VideoCapture(0)\n",
    "    if not cap.isOpened():\n",
    "        logging.error(\"Could not open camera\")\n",
    "        return\n",
    "    \n",
    "    # Set camera resolution\n",
    "    cap.set(cv2.CAP_PROP_FRAME_WIDTH, 1280)\n",
    "    cap.set(cv2.CAP_PROP_FRAME_HEIGHT, 720)\n",
    "    \n",
    "    # Initialize counters for each letter\n",
    "    counters = {letter: 0 for letter in LETTERS}\n",
    "    \n",
    "    # Create a window\n",
    "    cv2.namedWindow(\"ASL Dataset Creator\", cv2.WINDOW_NORMAL)\n",
    "    cv2.resizeWindow(\"ASL Dataset Creator\", 1280, 720)\n",
    "    \n",
    "    # Instructions\n",
    "    print(\"\\n\" + \"=\"*50)\n",
    "    print(\"ASL Dataset Creator\")\n",
    "    print(\"=\"*50)\n",
    "    print(\"Press a letter key (A-Z) to capture the corresponding ASL sign\")\n",
    "    print(\"Press 'SPACE' for the space sign\")\n",
    "    print(\"Press 'DELETE' for the delete sign\")\n",
    "    print(\"Press 'q' to quit\")\n",
    "    print(\"=\"*50 + \"\\n\")\n",
    "    \n",
    "    # Flag to track if a key was pressed\n",
    "    key_pressed = False\n",
    "    current_letter = None\n",
    "    \n",
    "    try:\n",
    "        while True:\n",
    "            # Capture frame-by-frame\n",
    "            ret, frame = cap.read()\n",
    "            if not ret:\n",
    "                logging.error(\"Failed to grab frame\")\n",
    "                break\n",
    "            \n",
    "            # Display the frame\n",
    "            cv2.imshow(\"ASL Dataset Creator\", frame)\n",
    "            \n",
    "            # Check for key press\n",
    "            key = cv2.waitKey(1) & 0xFF\n",
    "            \n",
    "            # Handle key press\n",
    "            if key != 255:  # A key was pressed\n",
    "                if key == ord('q'):\n",
    "                    break\n",
    "                elif key == ord(' '):\n",
    "                    current_letter = \"SPACE\"\n",
    "                    key_pressed = True\n",
    "                elif key == ord('\\b'):  # Backspace key\n",
    "                    current_letter = \"DELETE\"\n",
    "                    key_pressed = True\n",
    "                else:\n",
    "                    # Convert key to letter\n",
    "                    letter = chr(key).upper()\n",
    "                    if letter in LETTERS:\n",
    "                        current_letter = letter\n",
    "                        key_pressed = True\n",
    "            \n",
    "            # If a key was pressed, save the image\n",
    "            if key_pressed and current_letter:\n",
    "                # Save the image\n",
    "                counters[current_letter] = save_image(frame, current_letter, counters[current_letter])\n",
    "                \n",
    "                # Display confirmation\n",
    "                print(f\"Captured {current_letter} sign. Total: {counters[current_letter]}\")\n",
    "                \n",
    "                # Reset flags\n",
    "                key_pressed = False\n",
    "                current_letter = None\n",
    "                \n",
    "                # Add a small delay to prevent multiple captures\n",
    "                time.sleep(0.5)\n",
    "    \n",
    "    finally:\n",
    "        # Release the camera and close windows\n",
    "        cap.release()\n",
    "        cv2.destroyAllWindows()\n",
    "        \n",
    "        # Print summary\n",
    "        print(\"\\n\" + \"=\"*50)\n",
    "        print(\"Dataset Creation Summary\")\n",
    "        print(\"=\"*50)\n",
    "        for letter, count in counters.items():\n",
    "            if count > 0:\n",
    "                print(f\"{letter}: {count} images (including flipped and grayscale)\")\n",
    "        print(\"=\"*50 + \"\\n\")"
   ]
  }
 ],
 "metadata": {
  "kernelspec": {
   "display_name": "Python 3",
   "language": "python",
   "name": "python3"
  },
  "language_info": {
   "codemirror_mode": {
    "name": "ipython",
    "version": 3
   },
   "file_extension": ".py",
   "mimetype": "text/x-python",
   "name": "python",
   "nbconvert_exporter": "python",
   "pygments_lexer": "ipython3",
   "version": "3.11.6"
  }
 },
 "nbformat": 4,
 "nbformat_minor": 4
}
