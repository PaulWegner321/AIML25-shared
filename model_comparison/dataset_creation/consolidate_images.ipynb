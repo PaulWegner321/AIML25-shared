{
 "cells": [
  {
   "cell_type": "markdown",
   "metadata": {},
   "source": [
    "# ASL Dataset Consolidation\n",
    "\n",
    "This notebook consolidates ASL image datasets from multiple sources into a single unified dataset. The script handles:\n",
    "\n",
    "- Combining images from different team members\n",
    "- Standardizing file naming conventions\n",
    "- Avoiding duplicate files"
   ]
  },
  {
   "cell_type": "code",
   "execution_count": 1,
   "metadata": {},
   "outputs": [],
   "source": [
    "import os\n",
    "import shutil\n",
    "from pathlib import Path"
   ]
  },
  {
   "cell_type": "markdown",
   "metadata": {},
   "source": [
    "## Define Source and Destination Paths\n",
    "\n",
    "Define the paths for the original data directories and the main destination directory."
   ]
  },
  {
   "cell_type": "code",
   "execution_count": 2,
   "metadata": {},
   "outputs": [],
   "source": [
    "# Define source and destination paths\n",
    "base_path = Path(\"/Users/henrikjacobsen/Desktop/CBS/Semester 2/Artifical Intelligence and Machine Learning/Final Project/AIML25-shared/model_comparison\")\n",
    "main_data_path = base_path / \"data\"\n",
    "mads_data_path = base_path / \"data Mads\"\n",
    "paul_data_path = base_path / \"data Paul\""
   ]
  },
  {
   "cell_type": "markdown",
   "metadata": {},
   "source": [
    "## Define Function to Process Images\n",
    "\n",
    "This function handles copying images from source to destination directories while maintaining the folder structure and standardizing file naming."
   ]
  },
  {
   "cell_type": "code",
   "execution_count": 3,
   "metadata": {},
   "outputs": [],
   "source": [
    "def process_images(source_path, destination_path):\n",
    "    \"\"\"Process images from source path to destination path.\"\"\"\n",
    "    if not source_path.exists():\n",
    "        print(f\"Source path does not exist: {source_path}\")\n",
    "        return\n",
    "\n",
    "    # Iterate through all letter directories\n",
    "    for letter_dir in source_path.glob(\"*\"):\n",
    "        if not letter_dir.is_dir() or letter_dir.name == \".DS_Store\":\n",
    "            continue\n",
    "\n",
    "        # Create destination letter directory if it doesn't exist\n",
    "        dest_letter_dir = destination_path / letter_dir.name\n",
    "        dest_letter_dir.mkdir(exist_ok=True)\n",
    "\n",
    "        # Process all jpg files in the letter directory\n",
    "        for img_file in letter_dir.glob(\"*.jpg\"):\n",
    "            # Create new filename with correct grayscale naming\n",
    "            new_name = img_file.name.replace(\"_greyscaled\", \"_grayscale\")\n",
    "            dest_file = dest_letter_dir / new_name\n",
    "\n",
    "            # Copy file if it doesn't already exist\n",
    "            if not dest_file.exists():\n",
    "                shutil.copy2(img_file, dest_file)\n",
    "                print(f\"Copied: {img_file.name} -> {dest_file.name}\")\n",
    "            else:\n",
    "                print(f\"File already exists, skipping: {dest_file.name}\")"
   ]
  },
  {
   "cell_type": "markdown",
   "metadata": {},
   "source": [
    "## Execute the Consolidation Process\n",
    "\n",
    "Run the consolidation process for both data sources."
   ]
  },
  {
   "cell_type": "code",
   "execution_count": 4,
   "metadata": {},
   "outputs": [
    {
     "name": "stdout",
     "output_type": "stream",
     "text": [
      "\n",
      "Processing Mads' images...\n",
      "Source path does not exist: /Users/henrikjacobsen/Desktop/CBS/Semester 2/Artifical Intelligence and Machine Learning/Final Project/AIML25-shared/model_comparison/data Mads\n",
      "\n",
      "Processing Paul's images...\n",
      "Source path does not exist: /Users/henrikjacobsen/Desktop/CBS/Semester 2/Artifical Intelligence and Machine Learning/Final Project/AIML25-shared/model_comparison/data Paul\n",
      "\n",
      "Image consolidation complete!\n"
     ]
    }
   ],
   "source": [
    "def main():\n",
    "    # Process Mads' images\n",
    "    print(\"\\nProcessing Mads' images...\")\n",
    "    process_images(mads_data_path, main_data_path)\n",
    "\n",
    "    # Process Paul's images\n",
    "    print(\"\\nProcessing Paul's images...\")\n",
    "    process_images(paul_data_path, main_data_path)\n",
    "\n",
    "    print(\"\\nImage consolidation complete!\")\n",
    "\n",
    "# Execute the main function\n",
    "main()"
   ]
  }
 ],
 "metadata": {
  "kernelspec": {
   "display_name": "Python 3",
   "language": "python",
   "name": "python3"
  },
  "language_info": {
   "codemirror_mode": {
    "name": "ipython",
    "version": 3
   },
   "file_extension": ".py",
   "mimetype": "text/x-python",
   "name": "python",
   "nbconvert_exporter": "python",
   "pygments_lexer": "ipython3",
   "version": "3.8.5"
  }
 },
 "nbformat": 4,
 "nbformat_minor": 4
}
