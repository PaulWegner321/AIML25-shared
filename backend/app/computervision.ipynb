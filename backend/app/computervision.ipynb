{
 "cells": [
  {
   "cell_type": "code",
   "execution_count": 1,
   "id": "37687f64",
   "metadata": {},
   "outputs": [],
   "source": [
    "import torch\n",
    "import torch.nn as nn\n",
    "import torchvision  \n",
    "from torchvision import datasets, transforms\n",
    "from sklearn.metrics import classification_report\n",
    "from torch.utils.data import DataLoader\n",
    "import torchvision.transforms as transforms\n",
    "import torch.nn.functional as F  \n",
    "import torch.optim as optim\n",
    "import cv2\n",
    "\n",
    "import random\n",
    "import numpy as np\n",
    "import os\n",
    "from pathlib import Path\n",
    "from tqdm import tqdm"
   ]
  },
  {
   "cell_type": "code",
   "execution_count": 2,
   "id": "3434412f",
   "metadata": {},
   "outputs": [],
   "source": [
    "# Define transformations (rescale = normalize in PyTorch)\n",
    "transform = transforms.Compose([\n",
    "    transforms.Grayscale(),                # Ensure grayscale (1 channel)\n",
    "    #transforms.Resize((96, 96)),    \n",
    "    transforms.Resize((48,48)),       # Resize images\n",
    "    transforms.ToTensor(),                 # Converts to [0,1] float tensor\n",
    "    transforms.Normalize((0.5,), (0.5,))   # Optional: normalize to [-1,1]\n",
    "])\n",
    "\n",
    "batch_size = 128\n",
    "\n",
    "# Load training dataset\n",
    "train_dataset = datasets.ImageFolder(\n",
    "    root='/Users/madswolff/Downloads/asl_alphabet_train',\n",
    "    transform=transform\n",
    ")\n",
    "\n",
    "# Create DataLoaders\n",
    "train_loader = DataLoader(\n",
    "    train_dataset,\n",
    "    batch_size=batch_size,\n",
    "    shuffle=True\n",
    ")\n",
    "\n",
    "#laod test dataset\n",
    "test_dataset = datasets.ImageFolder(\n",
    "    root='/Users/madswolff/Downloads/asl_alphabet_test',\n",
    "    transform=transform\n",
    ")\n",
    "\n",
    "# Create DataLoaders\n",
    "test_loader = DataLoader(\n",
    "    test_dataset,\n",
    "    batch_size=batch_size,\n",
    "    shuffle=True\n",
    ")\n",
    "\n",
    "# Class names (if you want them)\n",
    "train_class_names = train_dataset.classes\n",
    "test_class_names = test_dataset.classes"
   ]
  },
  {
   "cell_type": "code",
   "execution_count": 3,
   "id": "befb616c",
   "metadata": {},
   "outputs": [
    {
     "data": {
      "text/plain": [
       "(Dataset ImageFolder\n",
       "     Number of datapoints: 78000\n",
       "     Root location: /Users/madswolff/Downloads/asl_alphabet_train\n",
       "     StandardTransform\n",
       " Transform: Compose(\n",
       "                Grayscale(num_output_channels=1)\n",
       "                Resize(size=(48, 48), interpolation=bilinear, max_size=None, antialias=True)\n",
       "                ToTensor()\n",
       "                Normalize(mean=(0.5,), std=(0.5,))\n",
       "            ),\n",
       " Dataset ImageFolder\n",
       "     Number of datapoints: 1815\n",
       "     Root location: /Users/madswolff/Downloads/asl_alphabet_test\n",
       "     StandardTransform\n",
       " Transform: Compose(\n",
       "                Grayscale(num_output_channels=1)\n",
       "                Resize(size=(48, 48), interpolation=bilinear, max_size=None, antialias=True)\n",
       "                ToTensor()\n",
       "                Normalize(mean=(0.5,), std=(0.5,))\n",
       "            ))"
      ]
     },
     "execution_count": 3,
     "metadata": {},
     "output_type": "execute_result"
    }
   ],
   "source": [
    "train_dataset, test_dataset"
   ]
  },
  {
   "cell_type": "code",
   "execution_count": 4,
   "id": "5e63f09b",
   "metadata": {},
   "outputs": [
    {
     "data": {
      "text/plain": [
       "'class ASL_CNN(nn.Module):\\n    def __init__(self):\\n        super().__init__()\\n\\n        # Define the convolutional layers\\n        self.conv1 = nn.Conv2d(1, 32, kernel_size=3, padding=1)  # Input 1 channel, output 32 channels\\n        self.conv2 = nn.Conv2d(32, 64, kernel_size=3, padding=1) # Input 32 channels, output 64 channels\\n        self.conv3 = nn.Conv2d(64, 128, kernel_size=3, padding=1) # Input 64 channels, output 128 channels\\n        self.conv4 = nn.Conv2d(128, 128, kernel_size=3, padding=1) # Input 128 channels, output 128 channels\\n        self.pool = nn.MaxPool2d(kernel_size=2)  # 2x2 Max pooling\\n        self.relu = nn.ReLU()  # ReLU activation\\n        \\n        # Flatten layer to convert 2D image data into 1D feature vector\\n        self.flatten = nn.Flatten()\\n\\n        # Fully connected layers\\n        self.fc1 = nn.Linear(128 * 6 * 6, 512)  # Adjusted input size after feature maps from conv layers\\n        self.fc2 = nn.Linear(512, 26)  # Output layer for 26 classes (ASL alphabet)\\n\\n    def forward(self, x):\\n        # Apply convolutional layers with ReLU activation and pooling\\n        x = self.pool(self.relu(self.conv1(x)))\\n        x = self.pool(self.relu(self.conv2(x)))\\n        x = self.pool(self.relu(self.conv3(x)))\\n        x = self.pool(self.relu(self.conv4(x)))  # Fourth convolution and pooling layer\\n\\n        # Flatten the feature maps into a 1D vector\\n        x = self.flatten(x)\\n\\n        # Apply fully connected layers\\n        x = self.relu(self.fc1(x))\\n        x = self.fc2(x)  # Output layer for classification\\n\\n        return x'"
      ]
     },
     "execution_count": 4,
     "metadata": {},
     "output_type": "execute_result"
    }
   ],
   "source": [
    "'''class ASL_CNN(nn.Module):\n",
    "    def __init__(self):\n",
    "        super().__init__()\n",
    "\n",
    "        # Define the convolutional layers\n",
    "        self.conv1 = nn.Conv2d(1, 32, kernel_size=3, padding=1)  # Input 1 channel, output 32 channels\n",
    "        self.conv2 = nn.Conv2d(32, 64, kernel_size=3, padding=1) # Input 32 channels, output 64 channels\n",
    "        self.conv3 = nn.Conv2d(64, 128, kernel_size=3, padding=1) # Input 64 channels, output 128 channels\n",
    "        self.conv4 = nn.Conv2d(128, 128, kernel_size=3, padding=1) # Input 128 channels, output 128 channels\n",
    "        self.pool = nn.MaxPool2d(kernel_size=2)  # 2x2 Max pooling\n",
    "        self.relu = nn.ReLU()  # ReLU activation\n",
    "        \n",
    "        # Flatten layer to convert 2D image data into 1D feature vector\n",
    "        self.flatten = nn.Flatten()\n",
    "\n",
    "        # Fully connected layers\n",
    "        self.fc1 = nn.Linear(128 * 6 * 6, 512)  # Adjusted input size after feature maps from conv layers\n",
    "        self.fc2 = nn.Linear(512, 26)  # Output layer for 26 classes (ASL alphabet)\n",
    "\n",
    "    def forward(self, x):\n",
    "        # Apply convolutional layers with ReLU activation and pooling\n",
    "        x = self.pool(self.relu(self.conv1(x)))\n",
    "        x = self.pool(self.relu(self.conv2(x)))\n",
    "        x = self.pool(self.relu(self.conv3(x)))\n",
    "        x = self.pool(self.relu(self.conv4(x)))  # Fourth convolution and pooling layer\n",
    "\n",
    "        # Flatten the feature maps into a 1D vector\n",
    "        x = self.flatten(x)\n",
    "\n",
    "        # Apply fully connected layers\n",
    "        x = self.relu(self.fc1(x))\n",
    "        x = self.fc2(x)  # Output layer for classification\n",
    "\n",
    "        return x'''"
   ]
  },
  {
   "cell_type": "code",
   "execution_count": 5,
   "id": "99e0a1bb",
   "metadata": {},
   "outputs": [],
   "source": [
    "class ASL_CNN(nn.Module):\n",
    "    def __init__(self):\n",
    "        super().__init__()\n",
    "\n",
    "        # Define the convolutional layers\n",
    "        self.conv1 = nn.Conv2d(1, 32, kernel_size=3, padding=1)  # Input 1 channel, output 32 channels\n",
    "        self.conv2 = nn.Conv2d(32, 64, kernel_size=3, padding=1) # Input 32 channels, output 64 channels\n",
    "        self.conv3 = nn.Conv2d(64, 128, kernel_size=3, padding=1) # Input 64 channels, output 128 channels\n",
    "        self.conv4 = nn.Conv2d(128, 128, kernel_size=3, padding=1) # Input 128 channels, output 128 channels\n",
    "        self.pool = nn.MaxPool2d(kernel_size=2)  # 2x2 Max pooling\n",
    "        self.relu = nn.ReLU()  # ReLU activation\n",
    "        \n",
    "        # Flatten layer to convert 2D image data into 1D feature vector\n",
    "        self.flatten = nn.Flatten()\n",
    "\n",
    "        # Fully connected layers\n",
    "        # Adjusted input size after feature maps from conv layers\n",
    "        self.fc1 = nn.Linear(128 * 3 * 3, 512)  # Adjusted for the new size (128 channels * 3x3 feature map)\n",
    "        self.fc2 = nn.Linear(512, 26)  # Output layer for 26 classes (ASL alphabet)\n",
    "\n",
    "    def forward(self, x):\n",
    "        # Apply convolutional layers with ReLU activation and pooling\n",
    "        x = self.pool(self.relu(self.conv1(x)))  # 48x48 -> 24x24\n",
    "        x = self.pool(self.relu(self.conv2(x)))  # 24x24 -> 12x12\n",
    "        x = self.pool(self.relu(self.conv3(x)))  # 12x12 -> 6x6\n",
    "        x = self.pool(self.relu(self.conv4(x)))  # 6x6 -> 3x3\n",
    "\n",
    "        # Flatten the feature maps into a 1D vector\n",
    "        x = self.flatten(x)\n",
    "\n",
    "        # Apply fully connected layers\n",
    "        x = self.relu(self.fc1(x))\n",
    "        x = self.fc2(x)  # Output layer for classification\n",
    "\n",
    "        return x"
   ]
  },
  {
   "cell_type": "code",
   "execution_count": 87,
   "id": "95ce1c30",
   "metadata": {},
   "outputs": [
    {
     "name": "stdout",
     "output_type": "stream",
     "text": [
      "ASL_CNN(\n",
      "  (conv1): Conv2d(1, 32, kernel_size=(3, 3), stride=(1, 1), padding=(1, 1))\n",
      "  (conv2): Conv2d(32, 64, kernel_size=(3, 3), stride=(1, 1), padding=(1, 1))\n",
      "  (conv3): Conv2d(64, 128, kernel_size=(3, 3), stride=(1, 1), padding=(1, 1))\n",
      "  (conv4): Conv2d(128, 128, kernel_size=(3, 3), stride=(1, 1), padding=(1, 1))\n",
      "  (pool): MaxPool2d(kernel_size=2, stride=2, padding=0, dilation=1, ceil_mode=False)\n",
      "  (relu): ReLU()\n",
      "  (flatten): Flatten(start_dim=1, end_dim=-1)\n",
      "  (fc1): Linear(in_features=1152, out_features=512, bias=True)\n",
      "  (fc2): Linear(in_features=512, out_features=26, bias=True)\n",
      ")\n"
     ]
    }
   ],
   "source": [
    "model = ASL_CNN()\n",
    "print(model)"
   ]
  },
  {
   "cell_type": "code",
   "execution_count": null,
   "id": "60f6c0bb",
   "metadata": {},
   "outputs": [],
   "source": [
    "'''device = torch.device(\"cuda\" if torch.cuda.is_available() else \"cpu\")\n",
    "model = ASL_CNN().to(device)'''"
   ]
  },
  {
   "cell_type": "code",
   "execution_count": null,
   "id": "1990a065",
   "metadata": {},
   "outputs": [
    {
     "name": "stderr",
     "output_type": "stream",
     "text": [
      "Epoch 1/5: 100%|██████████| 610/610 [30:47<00:00,  3.03s/it]    \n"
     ]
    },
    {
     "name": "stdout",
     "output_type": "stream",
     "text": [
      "Epoch 1/5, Loss: 0.8351\n"
     ]
    },
    {
     "name": "stderr",
     "output_type": "stream",
     "text": [
      "Epoch 2/5: 100%|██████████| 610/610 [03:38<00:00,  2.79it/s]\n"
     ]
    },
    {
     "name": "stdout",
     "output_type": "stream",
     "text": [
      "Epoch 2/5, Loss: 0.1177\n"
     ]
    },
    {
     "name": "stderr",
     "output_type": "stream",
     "text": [
      "Epoch 3/5: 100%|██████████| 610/610 [03:35<00:00,  2.83it/s]\n"
     ]
    },
    {
     "name": "stdout",
     "output_type": "stream",
     "text": [
      "Epoch 3/5, Loss: 0.0622\n"
     ]
    },
    {
     "name": "stderr",
     "output_type": "stream",
     "text": [
      "Epoch 4/5: 100%|██████████| 610/610 [03:39<00:00,  2.78it/s]\n"
     ]
    },
    {
     "name": "stdout",
     "output_type": "stream",
     "text": [
      "Epoch 4/5, Loss: 0.0422\n"
     ]
    },
    {
     "name": "stderr",
     "output_type": "stream",
     "text": [
      "Epoch 5/5: 100%|██████████| 610/610 [03:33<00:00,  2.86it/s]"
     ]
    },
    {
     "name": "stdout",
     "output_type": "stream",
     "text": [
      "Epoch 5/5, Loss: 0.0312\n"
     ]
    },
    {
     "name": "stderr",
     "output_type": "stream",
     "text": [
      "\n"
     ]
    }
   ],
   "source": [
    "'''# Loss and optimizer\n",
    "criterion = nn.CrossEntropyLoss()\n",
    "optimizer = optim.Adam(model.parameters(), lr=0.001)\n",
    "\n",
    "EPOCHS = 5  # We will run for 5 epochs\n",
    "model.train()  # Set model to training mode\n",
    "\n",
    "for epoch in range(EPOCHS):\n",
    "    running_loss = 0.0  # Initialize running loss for this epoch\n",
    "\n",
    "    for batch in tqdm(train_loader, desc=f\"Epoch {epoch + 1}/{EPOCHS}\"):\n",
    "        images, labels = batch  # Unpack images and labels\n",
    "\n",
    "        # Zero gradients\n",
    "        optimizer.zero_grad()\n",
    "\n",
    "        # Forward pass\n",
    "        outputs = model(images)  # Pass images through the model\n",
    "\n",
    "        # Compute the loss\n",
    "        loss = criterion(outputs, labels)\n",
    "\n",
    "        # Update the running loss\n",
    "        running_loss += loss.item()\n",
    "\n",
    "        # Backward pass and optimize\n",
    "        loss.backward()\n",
    "        optimizer.step()\n",
    "\n",
    "    # Print average loss for the epoch\n",
    "    print(f\"Epoch {epoch + 1}/{EPOCHS}, Loss: {running_loss / len(train_loader):.4f}\")'''"
   ]
  },
  {
   "cell_type": "code",
   "execution_count": null,
   "id": "8fd7aada",
   "metadata": {},
   "outputs": [
    {
     "name": "stderr",
     "output_type": "stream",
     "text": [
      "Testing: 100%|██████████| 15/15 [00:02<00:00,  7.05it/s]"
     ]
    },
    {
     "name": "stdout",
     "output_type": "stream",
     "text": [
      "\n",
      "Classification Report:\n",
      "              precision    recall  f1-score   support\n",
      "\n",
      "           A       0.00      0.00      0.00        70\n",
      "           B       0.00      0.00      0.00        70\n",
      "           C       0.00      0.00      0.00        70\n",
      "           D       0.00      0.00      0.00        70\n",
      "           E       0.07      0.71      0.13        70\n",
      "           F       0.00      0.00      0.00        70\n",
      "           G       0.03      0.09      0.05        70\n",
      "           H       0.00      0.00      0.00        70\n",
      "           I       0.00      0.00      0.00        70\n",
      "           J       0.00      0.00      0.00        70\n",
      "           K       0.00      0.00      0.00        70\n",
      "           L       0.00      0.00      0.00        70\n",
      "           M       0.05      0.03      0.04        70\n",
      "           N       0.00      0.00      0.00        70\n",
      "           O       0.00      0.00      0.00        70\n",
      "           P       0.00      0.00      0.00        70\n",
      "           Q       0.00      0.00      0.00        70\n",
      "           R       0.00      0.00      0.00        70\n",
      "           S       1.00      0.07      0.13        70\n",
      "           T       0.00      0.00      0.00        65\n",
      "           U       0.00      0.00      0.00        70\n",
      "           V       0.05      0.07      0.06        70\n",
      "           W       0.66      0.59      0.62        70\n",
      "           X       0.03      0.31      0.06        70\n",
      "           Y       0.00      0.00      0.00        70\n",
      "           Z       0.00      0.00      0.00        70\n",
      "\n",
      "    accuracy                           0.07      1815\n",
      "   macro avg       0.07      0.07      0.04      1815\n",
      "weighted avg       0.07      0.07      0.04      1815\n",
      "\n"
     ]
    },
    {
     "name": "stderr",
     "output_type": "stream",
     "text": [
      "\n",
      "/Users/madswolff/anaconda3/envs/aiml25-ma1/lib/python3.13/site-packages/sklearn/metrics/_classification.py:1565: UndefinedMetricWarning: Precision is ill-defined and being set to 0.0 in labels with no predicted samples. Use `zero_division` parameter to control this behavior.\n",
      "  _warn_prf(average, modifier, f\"{metric.capitalize()} is\", len(result))\n",
      "/Users/madswolff/anaconda3/envs/aiml25-ma1/lib/python3.13/site-packages/sklearn/metrics/_classification.py:1565: UndefinedMetricWarning: Precision is ill-defined and being set to 0.0 in labels with no predicted samples. Use `zero_division` parameter to control this behavior.\n",
      "  _warn_prf(average, modifier, f\"{metric.capitalize()} is\", len(result))\n",
      "/Users/madswolff/anaconda3/envs/aiml25-ma1/lib/python3.13/site-packages/sklearn/metrics/_classification.py:1565: UndefinedMetricWarning: Precision is ill-defined and being set to 0.0 in labels with no predicted samples. Use `zero_division` parameter to control this behavior.\n",
      "  _warn_prf(average, modifier, f\"{metric.capitalize()} is\", len(result))\n"
     ]
    }
   ],
   "source": [
    "'''# Set model to evaluation mode\n",
    "model.eval()\n",
    "\n",
    "# Lists to store true and predicted labels\n",
    "y_true = []\n",
    "y_pred = []\n",
    "\n",
    "# Disable gradient calculation during evaluation (for efficiency)\n",
    "with torch.no_grad():\n",
    "    for batch in tqdm(test_loader, desc=\"Testing\"):\n",
    "        images, labels = batch\n",
    "        \n",
    "        # Forward pass through the model\n",
    "        outputs = model(images)  \n",
    "        \n",
    "        # Get the predicted class by selecting the index with the highest score\n",
    "        predictions = torch.argmax(outputs, dim=1)\n",
    "\n",
    "        # Store the true and predicted labels\n",
    "        y_true.extend(labels.cpu().numpy())  # Move to CPU and convert to numpy array\n",
    "        y_pred.extend(predictions.cpu().numpy())  # Move to CPU and convert to numpy array\n",
    "\n",
    "# Print the classification report\n",
    "target_names = [chr(i) for i in range(65, 91)]  # ASL alphabet 'A' to 'Z'\n",
    "\n",
    "print(\"\\nClassification Report:\")\n",
    "print(classification_report(y_true, y_pred, target_names=target_names))'''"
   ]
  },
  {
   "cell_type": "code",
   "execution_count": null,
   "id": "c95f0566",
   "metadata": {},
   "outputs": [
    {
     "data": {
      "image/png": "[encoded data removed]",
      "text/plain": [
       "<Figure size 640x480 with 1 Axes>"
      ]
     },
     "metadata": {},
     "output_type": "display_data"
    }
   ],
   "source": [
    "'''import matplotlib.pyplot as plt\n",
    "import numpy as np\n",
    "\n",
    "# Get a batch of images and labels\n",
    "images, labels = next(iter(train_loader))\n",
    "\n",
    "# Take the first image in the batch\n",
    "image = images[0]\n",
    "\n",
    "# Reverse the normalization (optional, if you want to see the image in original scale)\n",
    "image = image / 2 + 0.5  # Unnormalize if you used Normalize((0.5,), (0.5,))\n",
    "\n",
    "# Convert tensor to numpy for visualization\n",
    "image = image.numpy().squeeze()  # Squeeze to remove extra dimension for grayscale\n",
    "\n",
    "# Display the image\n",
    "plt.imshow(image, cmap='gray')\n",
    "plt.title(f'Label: {train_class_names[labels[0]]}')\n",
    "plt.axis('off')  # Hide axes for clarity\n",
    "plt.show()\n",
    "'''"
   ]
  },
  {
   "cell_type": "markdown",
   "id": "2f4c5287",
   "metadata": {},
   "source": [
    "CAMERA STUFF"
   ]
  },
  {
   "cell_type": "code",
   "execution_count": null,
   "id": "77ab0533",
   "metadata": {},
   "outputs": [],
   "source": [
    "'''torch.save(model.state_dict(), 'asl_cnn_weights.pth')'''"
   ]
  },
  {
   "cell_type": "code",
   "execution_count": 6,
   "id": "d81feeac",
   "metadata": {},
   "outputs": [
    {
     "name": "stderr",
     "output_type": "stream",
     "text": [
      "/var/folders/1q/snl996k91jzb97fx3w_zmck40000gn/T/ipykernel_36025/193514495.py:3: FutureWarning: You are using `torch.load` with `weights_only=False` (the current default value), which uses the default pickle module implicitly. It is possible to construct malicious pickle data which will execute arbitrary code during unpickling (See https://github.com/pytorch/pytorch/blob/main/SECURITY.md#untrusted-models for more details). In a future release, the default value for `weights_only` will be flipped to `True`. This limits the functions that could be executed during unpickling. Arbitrary objects will no longer be allowed to be loaded via this mode unless they are explicitly allowlisted by the user via `torch.serialization.add_safe_globals`. We recommend you start setting `weights_only=True` for any use case where you don't have full control of the loaded file. Please open an issue on GitHub for any issues related to this experimental feature.\n",
      "  model.load_state_dict(torch.load('asl_cnn_weights.pth', map_location='cpu'))\n",
      "2025-04-10 15:54:34.646 python[36025:1439318] WARNING: AVCaptureDeviceTypeExternal is deprecated for Continuity Cameras. Please use AVCaptureDeviceTypeContinuityCamera and add NSCameraUseContinuityCameraDeviceType to your Info.plist.\n"
     ]
    },
    {
     "name": "stdout",
     "output_type": "stream",
     "text": [
      "Webcam is open, ready to capture.\n"
     ]
    },
    {
     "name": "stderr",
     "output_type": "stream",
     "text": [
      "2025-04-10 15:54:38.089 python[36025:1439318] +[IMKClient subclass]: chose IMKClient_Modern\n",
      "2025-04-10 15:54:38.089 python[36025:1439318] +[IMKInputSession subclass]: chose IMKInputSession_Modern\n"
     ]
    },
    {
     "name": "stdout",
     "output_type": "stream",
     "text": [
      "Exiting...\n"
     ]
    }
   ],
   "source": [
    "# Load model and weights\n",
    "model = ASL_CNN()\n",
    "model.load_state_dict(torch.load('asl_cnn_weights.pth', map_location='cpu'))\n",
    "model.eval()\n",
    "\n",
    "# Define image transforms\n",
    "transform = transforms.Compose([\n",
    "    transforms.ToPILImage(),\n",
    "    transforms.Grayscale(),\n",
    "    transforms.Resize((48, 48)),\n",
    "    transforms.ToTensor(),\n",
    "    transforms.Normalize((0.5,), (0.5,))\n",
    "])\n",
    "\n",
    "# Define class labels (you can load from train_dataset.classes if available)\n",
    "labels = [chr(i) for i in range(65, 91)]  # A-Z\n",
    "\n",
    "# Open webcam\n",
    "cap = cv2.VideoCapture(0)\n",
    "\n",
    "if not cap.isOpened():\n",
    "    print(\"Error: Could not open video stream.\")\n",
    "else:\n",
    "    print(\"Webcam is open, ready to capture.\")\n",
    "\n",
    "while True:\n",
    "    ret, frame = cap.read()\n",
    "    \n",
    "    if not ret:\n",
    "        print(\"Error: Failed to capture image.\")\n",
    "        break\n",
    "\n",
    "    # Mirror the frame (horizontal flip)\n",
    "    frame = cv2.flip(frame, 1)\n",
    "\n",
    "    # Increase the size of the square\n",
    "    h, w = frame.shape[:2]\n",
    "    box_size = 700  # Make the square 500px instead of 300px\n",
    "    top_left = (w // 2 - box_size // 2, h // 2 - box_size // 2)\n",
    "    bottom_right = (top_left[0] + box_size, top_left[1] + box_size)\n",
    "\n",
    "    # Draw rectangle\n",
    "    cv2.rectangle(frame, top_left, bottom_right, (0, 0, 255), 2)\n",
    "\n",
    "    # Get ROI\n",
    "    roi = frame[top_left[1]:bottom_right[1], top_left[0]:bottom_right[0]]\n",
    "    if roi.shape[0] == 0 or roi.shape[1] == 0:\n",
    "        continue\n",
    "\n",
    "    # Preprocess ROI\n",
    "    try:\n",
    "        img_tensor = transform(roi).unsqueeze(0)  # Add batch dimension\n",
    "\n",
    "        # Predict\n",
    "        with torch.no_grad():\n",
    "            output = model(img_tensor)\n",
    "            pred_idx = output.argmax().item()\n",
    "            confidence = torch.softmax(output, dim=1)[0, pred_idx].item() * 100\n",
    "            predicted_label = labels[pred_idx]\n",
    "\n",
    "        # Display prediction\n",
    "        msg = f\"{predicted_label}, Conf: {confidence:.1f}%\"\n",
    "        cv2.putText(frame, msg, (top_left[0], top_left[1] - 10),\n",
    "                    cv2.FONT_HERSHEY_SIMPLEX, 1, (255, 255, 0), 2)\n",
    "    except Exception as e:\n",
    "        print(f\"Error during prediction: {e}\")\n",
    "\n",
    "    # Show the frame with the rectangle and prediction\n",
    "    cv2.imshow(\"ASL Live Prediction\", frame)\n",
    "\n",
    "    # Check if 'q' is pressed to break loop\n",
    "    key = cv2.waitKey(1) & 0xFF\n",
    "    if key == ord('q'):  # If 'q' is pressed, exit the loop\n",
    "        print(\"Exiting...\")\n",
    "        break\n",
    "\n",
    "# Cleanup: release the camera and close all OpenCV windows\n",
    "cap.release()\n",
    "cv2.destroyAllWindows()"
   ]
  }
 ],
 "metadata": {
  "kernelspec": {
   "display_name": "aiml25-ma1",
   "language": "python",
   "name": "python3"
  },
  "language_info": {
   "codemirror_mode": {
    "name": "ipython",
    "version": 3
   },
   "file_extension": ".py",
   "mimetype": "text/x-python",
   "name": "python",
   "nbconvert_exporter": "python",
   "pygments_lexer": "ipython3",
   "version": "3.13.1"
  }
 },
 "nbformat": 4,
 "nbformat_minor": 5
}
