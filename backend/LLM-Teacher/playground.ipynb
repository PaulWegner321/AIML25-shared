{
 "cells": [
  {
   "cell_type": "code",
   "execution_count": null,
   "metadata": {},
   "outputs": [],
   "source": [
    "import pandas as pd\n",
    "import json, re\n",
    "from ibm_watsonx_ai import Credentials, APIClient\n",
    "from ibm_watsonx_ai.foundation_models import ModelInference\n",
    "from ibm_watsonx_ai.foundation_models.schema import TextGenParameters\n",
    "from decouple import Config, RepositoryEnv"
   ]
  },
  {
   "cell_type": "code",
   "execution_count": 41,
   "metadata": {},
   "outputs": [],
   "source": [
    "# Load the environment variables using python-decouple\n",
    "# The .env file should be in the root of the project\n",
    "# The .env file should NOT be committed to the repository\n",
    "\n",
    "config = Config(RepositoryEnv(\".env.paul\"))\n",
    "\n",
    "# Load the credentials\n",
    "WX_API_KEY = config(\"WX_API_KEY\")"
   ]
  },
  {
   "cell_type": "code",
   "execution_count": 42,
   "metadata": {},
   "outputs": [],
   "source": [
    "credentials = Credentials(\n",
    "    url = \"https://us-south.ml.cloud.ibm.com\",\n",
    "    api_key = WX_API_KEY\n",
    ")\n",
    "client = APIClient(\n",
    "    credentials=credentials, \n",
    "    project_id=\"68126b74-155e-4a70-aa2c-1781dfad87f6\"\n",
    ")"
   ]
  },
  {
   "cell_type": "code",
   "execution_count": 43,
   "metadata": {},
   "outputs": [
    {
     "data": {
      "text/plain": [
       "{'model_id': 'ibm/granite-3-8b-instruct',\n",
       " 'model_version': '1.1.0',\n",
       " 'created_at': '2025-05-05T11:17:34.945Z',\n",
       " 'results': [{'generated_text': \"\\n\\nI'm currently in Copenhagen, Denmark, and I'm excited to share some insights about this beautiful city. Copenhagen is the capital and most populous city of Denmark, known for its rich history, stunning architecture, and vibrant culture.\\n\\n1. **Historical Landmarks**: Copenhagen boasts a wealth of historical landmarks. The iconic Little Mermaid statue, inspired by Hans Christian Andersen's fairy tale, is a must-visit. The Amalienborg Palace, home to the Danish royal family, is another popular attraction. Don't miss the Rosenborg Castle, which houses the Danish crown jewels and royal artifacts.\\n\\n2. **Museums**: Copenhagen is a hub for art and culture. The National Museum of Denmark offers a comprehensive overview of Danish history, while the Louisiana Museum of Modern Art showcases an impressive collection of modern and contemporary art. The Design Museum Denmark is a great place to explore Danish design.\\n\\n3. **Nature and Parks**: Copenhagen is surrounded by beautiful parks and nature reserves. The Tivoli Gardens, one of the world's oldest amusement parks, is a delight\",\n",
       "   'generated_token_count': 300,\n",
       "   'input_token_count': 7,\n",
       "   'stop_reason': 'max_tokens'}]}"
      ]
     },
     "execution_count": 43,
     "metadata": {},
     "output_type": "execute_result"
    }
   ],
   "source": [
    "# --- Setup the Model (Granite-13b-chat-v2) ---\n",
    "params = TextGenParameters(\n",
    "    temperature=0.05,           # Light creativity\n",
    "    max_new_tokens=300          # Enough for descriptive text\n",
    ")\n",
    "\n",
    "model = ModelInference(\n",
    "    api_client=client,\n",
    "    params=params,\n",
    "    model_id=\"ibm/granite-3-8b-instruct\",\n",
    ")\n",
    "prompt = \"Hello from copenhagen!\"\n",
    "generated_response = model.generate(prompt)\n",
    "\n",
    "generated_response"
   ]
  },
  {
   "cell_type": "code",
   "execution_count": 44,
   "metadata": {},
   "outputs": [],
   "source": [
    "def create_prompt(sign_name: str) -> str:\n",
    "    return (\n",
    "        f\"You are an American Sign Language (ASL) teacher.\\n\\n\"\n",
    "        f\"Please clearly explain how to perform the ASL sign on a beginner level for '{sign_name}'. \"\n",
    "        f\"Use simple language and full sentences. Do not assume any prior knowledge about ASL.\\n\\n\"\n",
    "    )\n"
   ]
  },
  {
   "cell_type": "code",
   "execution_count": 45,
   "metadata": {},
   "outputs": [],
   "source": [
    "# --- Generate ASL Description ---\n",
    "def generate_asl_description(sign_name: str) -> str:\n",
    "    prompt = create_prompt(sign_name)\n",
    "    \n",
    "    response = model.generate(prompt=prompt)\n",
    "    generated_text = response['results'][0]['generated_text']\n",
    "    \n",
    "    return generated_text"
   ]
  },
  {
   "cell_type": "code",
   "execution_count": 7,
   "metadata": {},
   "outputs": [
    {
     "name": "stdout",
     "output_type": "stream",
     "text": [
      "\n",
      "✅ Generated ASL Description:\n",
      "\n",
      "\n",
      "To sign 'piano' in American Sign Language (ASL), follow these steps:\n",
      "\n",
      "1. Start with your dominant hand open and facing up, palm facing you.\n",
      "2. Bring your hand down to your thigh or knee area, keeping your fingers together and your thumb extended out to the side.\n",
      "3. Touch the tip of your index finger to the tip of your thumb, forming a small circle.\n",
      "4. While maintaining the circle with your index finger and thumb, move your hand up and down in a small, repetitive motion, as if you were pressing the keys of a piano.\n",
      "\n",
      "Remember, ASL is a visual language, so it's essential to use facial expressions and movements to convey the meaning accurately. In this case, you can use a neutral or slightly curious facial expression to signify asking about or identifying the instrument.\n",
      "\n",
      "Practice this sign regularly to improve your proficiency in ASL.\n"
     ]
    }
   ],
   "source": [
    "# --- Example Usage ---\n",
    "if __name__ == \"__main__\":\n",
    "    sign_to_explain = input(\"📝 Enter the ASL sign you want explained: \")\n",
    "\n",
    "    try:\n",
    "        description = generate_asl_description(sign_to_explain)\n",
    "        print(\"\\n✅ Generated ASL Description:\\n\")\n",
    "        print(description)\n",
    "    except Exception as e:\n",
    "        print(f\"❌ Error during generation: {e}\")"
   ]
  },
  {
   "cell_type": "markdown",
   "metadata": {},
   "source": [
    "Judge"
   ]
  },
  {
   "cell_type": "code",
   "execution_count": 46,
   "metadata": {},
   "outputs": [],
   "source": [
    "# Separate model instance for evaluation (judge), we are allways using llama-3-3-70b-instruct based on literature review\n",
    "judge_model = ModelInference(\n",
    "    api_client=client,\n",
    "    params=params, \n",
    "    model_id=\"meta-llama/llama-3-3-70b-instruct\",\n",
    ")\n"
   ]
  },
  {
   "cell_type": "code",
   "execution_count": 47,
   "metadata": {},
   "outputs": [],
   "source": [
    "def create_judge_prompt(sign_name: str, description: str) -> str:\n",
    "    return f\"\"\"You are evaluating the quality of a generated ASL (American Sign Language) sign description based on 3 criteria.\n",
    "The criteria are:\n",
    "  1. Faithfulness: Are the claims in the answer factually consistent with the expected definition?\n",
    "  2. Answer Relevance: Does the answer specifically and sufficiently describe the requested sign?\n",
    "  3. Context Relevance: Does the answer exclusively contain information that is needed to describe the sign?\n",
    "  \n",
    "Use the following scale:\n",
    "- 1 = fully meets the criterion\n",
    "- 0.5 = partially meets the criterion\n",
    "- 0 = does not meet the criterion\n",
    "\n",
    "Think carefully for each criterion.\n",
    "\n",
    "ASL Sign Request:\n",
    "\"{sign_name}\"\n",
    "\n",
    "Generated Description:\n",
    "\"{description}\"\n",
    "\n",
    "Respond as a JSON object, exactly like this (no extra text or comments):\n",
    "\n",
    "{{\n",
    "  \"faithfulness\": <0, 0.5, or 1>,\n",
    "  \"answer_relevance\": <0, 0.5, or 1>,\n",
    "  \"context_relevance\": <0, 0.5, or 1>\n",
    "}}\"\"\"\n"
   ]
  },
  {
   "cell_type": "code",
   "execution_count": 48,
   "metadata": {},
   "outputs": [],
   "source": [
    "def evaluate_description(sign_name: str, description: str) -> dict:\n",
    "\n",
    "    judge_prompt = create_judge_prompt(sign_name, description)\n",
    "    response = judge_model.generate(prompt=judge_prompt)\n",
    "    judged_text = response['results'][0]['generated_text']\n",
    "\n",
    "    # Default fallback result\n",
    "    judge_result = {\n",
    "        \"faithfulness\": None,\n",
    "        \"answer_relevance\": None,\n",
    "        \"context_relevance\": None\n",
    "    }\n",
    "\n",
    "    try:\n",
    "        parsed = json.loads(judged_text)\n",
    "        if isinstance(parsed, dict):\n",
    "            judge_result.update(parsed)\n",
    "    except Exception:\n",
    "        matches = re.findall(r\"\\{.*?\\}\", judged_text, re.DOTALL)\n",
    "        if matches:\n",
    "            try:\n",
    "                parsed = json.loads(matches[0])\n",
    "                if isinstance(parsed, dict):\n",
    "                    judge_result.update(parsed)\n",
    "            except Exception as e:\n",
    "                print(f\"❌ Fallback parse failed: {e}\")\n",
    "        else:\n",
    "            print(\"❌ No JSON object found in model output.\")\n",
    "\n",
    "    return judge_result"
   ]
  },
  {
   "cell_type": "code",
   "execution_count": 49,
   "metadata": {},
   "outputs": [],
   "source": [
    "#manual testing\n",
    "def run_manual_judge(sign_name: str, description: str):\n",
    "    \"\"\"\n",
    "    Evaluate a manually provided sign name and ASL description using the current judge.\n",
    "    Prints the scores directly.\n",
    "    \"\"\"\n",
    "    try:\n",
    "        result = evaluate_description(sign_name, description)\n",
    "\n",
    "        print(\"\\nEvaluation Result:\")\n",
    "        print(f\"Sign: {sign_name}\")\n",
    "        print(f\"Description: {description}\")\n",
    "        print(f\"Faithfulness: {result.get('faithfulness')}\")\n",
    "        print(f\"Answer Relevance: {result.get('answer_relevance')}\")\n",
    "        print(f\"Context Relevance: {result.get('context_relevance')}\")\n",
    "\n",
    "    except Exception as e:\n",
    "        print(f\"❌ Error while evaluating: {e}\")\n"
   ]
  },
  {
   "cell_type": "code",
   "execution_count": 50,
   "metadata": {},
   "outputs": [
    {
     "name": "stdout",
     "output_type": "stream",
     "text": [
      "\n",
      "Evaluation Result:\n",
      "Sign: salad\n",
      "Description: To sign 'salad' in American Sign Language (ASL), follow these steps: 1. Start with your dominant hand open and facing up, palm facing you. 2. Bring your hand down to your lap or any stable surface in front of you, keeping your fingers together and your thumb extended out to the side. 3. Touch your index finger and your middle finger together, keeping your other fingers straight. 4. Move your hand back up to your face level, keeping your fingers together and your thumb extended out to the side. 5. This time, bring your hand closer to your chin, as if you're eating a small bite of salad. 6. While moving your hand up, slightly bend your index and middle fingers to mimic the shape of a leaf. 7. Keep your thumb extended out to the side and your other fingers straight. 8. Finally, move your hand down to your lap or any stable surface in front of you, keeping your fingers together and your thumb extended out to the side. Remember, practice makes perfect. Keep practicing the sign for 'salad' until you feel comfortable with it. Good luck!\n",
      "Faithfulness: 1\n",
      "Answer Relevance: 1\n",
      "Context Relevance: 0.5\n"
     ]
    }
   ],
   "source": [
    "run_manual_judge(\n",
    "    sign_name=\"salad\",\n",
    "    description=\"To sign 'salad' in American Sign Language (ASL), follow these steps: 1. Start with your dominant hand open and facing up, palm facing you. 2. Bring your hand down to your lap or any stable surface in front of you, keeping your fingers together and your thumb extended out to the side. 3. Touch your index finger and your middle finger together, keeping your other fingers straight. 4. Move your hand back up to your face level, keeping your fingers together and your thumb extended out to the side. 5. This time, bring your hand closer to your chin, as if you're eating a small bite of salad. 6. While moving your hand up, slightly bend your index and middle fingers to mimic the shape of a leaf. 7. Keep your thumb extended out to the side and your other fingers straight. 8. Finally, move your hand down to your lap or any stable surface in front of you, keeping your fingers together and your thumb extended out to the side. Remember, practice makes perfect. Keep practicing the sign for 'salad' until you feel comfortable with it. Good luck!\"\n",
    ")\n"
   ]
  },
  {
   "cell_type": "code",
   "execution_count": 52,
   "metadata": {},
   "outputs": [
    {
     "name": "stdout",
     "output_type": "stream",
     "text": [
      "👋 Welcome to the ASL Sign Generator using Granite-13b!\n",
      "\n",
      "✅ Generated ASL Description:\n",
      "\n",
      "\n",
      "To sign 'piano' in American Sign Language (ASL), follow these steps:\n",
      "\n",
      "1. Start with your dominant hand open and facing up, palm facing you.\n",
      "2. Bring your hand down to your thigh or knee area, keeping your fingers together and your thumb extended out to the side.\n",
      "3. Touch the tip of your index finger to the tip of your thumb, forming a small circle.\n",
      "4. While maintaining the circle with your index finger and thumb, move your hand up and down in a small, repetitive motion, as if you were pressing the keys of a piano.\n",
      "\n",
      "Remember, ASL is a visual language, so it's essential to use facial expressions and movements to convey the meaning accurately. In this case, you can use a neutral or slightly curious facial expression to signify asking about or identifying the piano.\n",
      "\n",
      "Practice this sign slowly at first, focusing on the shape and movement, and gradually increase your speed as you become more comfortable with the sign.\n",
      "\n",
      "📊 Evaluation Result:\n",
      " Faithfulness: 1\n",
      " Answer Relevance: 1\n",
      " Context Relevance: 1\n"
     ]
    }
   ],
   "source": [
    "if __name__ == \"__main__\":\n",
    "    print(\"👋 Welcome to the ASL Sign Generator using Granite-13b!\")\n",
    "    sign_to_explain = input(\"📝 Enter the ASL sign you want explained: \")\n",
    "\n",
    "    try:\n",
    "        # Generate ASL description\n",
    "        description = generate_asl_description(sign_to_explain)\n",
    "        print(\"\\n✅ Generated ASL Description:\\n\")\n",
    "        print(description)\n",
    "\n",
    "        # Judge the description\n",
    "        judge_result = evaluate_description(sign_to_explain, description)\n",
    "\n",
    "        print(\"\\n📊 Evaluation Result:\")\n",
    "        print(f\" Faithfulness: {judge_result.get('faithfulness')}\")\n",
    "        print(f\" Answer Relevance: {judge_result.get('answer_relevance')}\")\n",
    "        print(f\" Context Relevance: {judge_result.get('context_relevance')}\")\n",
    "\n",
    "    except Exception as e:\n",
    "        print(f\"❌ Error during generation or evaluation: {e}\")\n",
    "\n",
    "\n",
    "\n"
   ]
  },
  {
   "cell_type": "markdown",
   "metadata": {},
   "source": [
    "Mass evaluation"
   ]
  },
  {
   "cell_type": "code",
   "execution_count": 74,
   "metadata": {},
   "outputs": [],
   "source": [
    "def create_comparison_judge_prompt(sign_name: str, generated_description: str, expected_description: str) -> str:\n",
    "    return f\"\"\"You are evaluating the quality of an ASL sign description based on 3 criteria by comparing it to an expected definition.\n",
    "\n",
    "Sign: \"{sign_name}\"\n",
    "\n",
    "Expected (ground truth) description:\n",
    "\"{expected_description}\"\n",
    "\n",
    "Generated description:\n",
    "\"{generated_description}\"\n",
    "\n",
    "The criteria are:\n",
    "1. Faithfulness: Can the content of the generated description be inferred from the expected definition?\n",
    "2. Answer Relevance: Does the answer specifically and sufficiently describe the requested sign?\n",
    "3. Context Relevance: Does the answer exclusively contain information that is needed to describe the sign?\n",
    "\n",
    "Use the following scale:\n",
    "- 1 = fully meets the criterion\n",
    "- 0.5 = partially meets the criterion\n",
    "- 0 = does not meet the criterion\n",
    "\n",
    "Here are a few examples of how to answer:\n",
    "- example 1:\n",
    "  - expected description \"Mimic the motion of tossing a salad by placing both hands next to each other in front of your with your palms oriented toward each other, and then slightly moving your hands toward each other and up a couple of times.\"\n",
    "  - generated description \"Move like tossing a salad: hold both hands next to each other in front of you with the palms facing one another, then raise them slightly while bringing them inward toward each other a couple of times.\"\n",
    "  - response: \"faithfulness\": 1, \"answer_relevance\": 1, \"context_relevance\": 1\n",
    "- example 2:\n",
    "  - expected description \"Mimic the motion of tossing a salad by placing both hands next to each other in front of your with your palms oriented toward each other, and then slightly moving your hands toward each other and up a couple of times.\"\n",
    "  - generated description \"Dance in a circle like you never danced before.\"\n",
    "  - response: \"faithfulness\": 0, \"answer_relevance\": 0, \"context_relevance\": 0\n",
    "- example 3:\n",
    "  - expected description \"Mimic the motion of tossing a salad by placing both hands next to each other in front of your with your palms oriented toward each other, and then slightly moving your hands toward each other and up a couple of times.\"\n",
    "  - generated description \"To sign 'salad' in American Sign Language (ASL), follow these steps: 1. Start with your dominant hand open and facing up, palm facing you. 2. Bring your hand down to your lap or any stable surface in front of you, keeping your fingers together and your thumb extended out to the side. 3. Touch your index finger and your middle finger together, keeping your other fingers straight. 4. Move your hand back up to your face level, keeping your fingers together and your thumb extended out to the side. 5. This time, bring your hand closer to your chin, as if you're eating a small bite of salad. 6. While moving your hand up, slightly bend your index and middle fingers to mimic the shape of a leaf. 7. Keep your thumb extended out to the side and your other fingers straight. 8. Finally, move your hand down to your lap or any stable surface in front of you, keeping your fingers together and your thumb extended out to the side. Remember, practice makes perfect. Keep practicing the sign for 'salad' until you feel comfortable with it. Good luck!\"\n",
    "  - response: \"faithfulness\": 0.5, \"answer_relevance\": 0.5, \"context_relevance\": 0.5\n",
    "- example 4:\n",
    "  - expected description \"Begin with the side of your index finger against your forehead and then move your hand up and away from your head.\"\n",
    "  - generated description \"Hello user, this is a great converstaion starter. I also love to say 'hello' in the beginning of a conversation. To sign 'hello' in American Sign Language (ASL), place the side of your index finger against your forehead and then move your hand up and away from your head. This is a friendly gesture that is commonly used in ASL to greet someone. Remember to smile and make eye contact while signing 'hello' to convey warmth and friendliness.\"\n",
    "  - response: \"faithfulness\": 0.5, \"answer_relevance\": 1, \"context_relevance\": 0.5\n",
    "- example 5:\n",
    "  - expected description \"Begin with the side of your index finger against your forehead and then move your hand up and away from your head.\"\n",
    "  - generated description \"Start with the edge of your index finger touching your forehead, then lift your hand upward and out, away from your head. And by the way, tomorrow will be a great day for swimming!\"\n",
    "  - response: \"faithfulness\": 0.5, \"answer_relevance\": 1, \"context_relevance\": 0.5\n",
    "- example 6:\n",
    "  - expected description \"Begin with the side of your index finger against your forehead and then move your hand up and away from your head.\"\n",
    "  - generated description \"Touch the tip of your middle finger to your chin with the palm facing inward, then flick your hand forward and downward away from your face.\"\n",
    "  - response: \"faithfulness\": 0, \"answer_relevance\": 0.5, \"context_relevance\": 0\n",
    "\n",
    "Think carefully for each criterion before answering.\n",
    "\n",
    "Respond only as JSON in the following format (no extra text or comments):\n",
    "\n",
    "{{\n",
    "  \"faithfulness\": <0, 0.5, or 1>,\n",
    "  \"answer_relevance\": <0, 0.5, or 1>,\n",
    "  \"context_relevance\": <0, 0.5, or 1>\n",
    "}}\"\"\"\n",
    "\n",
    "\n"
   ]
  },
  {
   "cell_type": "code",
   "execution_count": 75,
   "metadata": {},
   "outputs": [],
   "source": [
    "def evaluate_against_ground_truth(sign_name: str, generated_description: str, expected_description: str) -> dict:\n",
    "\n",
    "    prompt = create_comparison_judge_prompt(sign_name, generated_description, expected_description)\n",
    "    response = judge_model.generate(prompt=prompt)\n",
    "    judged_text = response['results'][0]['generated_text']\n",
    "\n",
    "    result = {\n",
    "        \"faithfulness\": None,\n",
    "        \"answer_relevance\": None,\n",
    "        \"context_relevance\": None\n",
    "    }\n",
    "\n",
    "    try:\n",
    "        parsed = json.loads(judged_text)\n",
    "        if isinstance(parsed, dict):\n",
    "            result.update(parsed)\n",
    "    except Exception:\n",
    "        matches = re.findall(r\"\\{.*?\\}\", judged_text, re.DOTALL)\n",
    "        if matches:\n",
    "            try:\n",
    "                parsed = json.loads(matches[0])\n",
    "                if isinstance(parsed, dict):\n",
    "                    result.update(parsed)\n",
    "            except Exception as e:\n",
    "                print(f\"❌ Fallback parse failed: {e}\")\n",
    "        else:\n",
    "            print(\"❌ No JSON object found in model output.\")\n",
    "\n",
    "    return result\n"
   ]
  },
  {
   "cell_type": "code",
   "execution_count": 78,
   "metadata": {},
   "outputs": [
    {
     "name": "stdout",
     "output_type": "stream",
     "text": [
      "\n",
      "📊 Judge Result:\n",
      "Faithfulness: 0.5\n",
      "Answer Relevance: 0.5\n",
      "Context Relevance: 0.5\n"
     ]
    }
   ],
   "source": [
    "#Testing judge with manual input\n",
    "sign = \"hello\"\n",
    "expected = \"Begin with the side of your index finger against your forehead and then move your hand up and away from your head.\"\n",
    "generated = \"Start with the side of your index touching your forehead, then extend your pinky\"\n",
    "\n",
    "scores = evaluate_against_ground_truth(sign, generated, expected)\n",
    "\n",
    "print(\"\\n📊 Judge Result:\")\n",
    "print(f\"Faithfulness: {scores['faithfulness']}\")\n",
    "print(f\"Answer Relevance: {scores['answer_relevance']}\")\n",
    "print(f\"Context Relevance: {scores['context_relevance']}\")\n"
   ]
  },
  {
   "cell_type": "code",
   "execution_count": 79,
   "metadata": {},
   "outputs": [],
   "source": [
    "# Define signs and their expected definitions\n",
    "test_data = [\n",
    "    {\"sign\": \"car\", \"expected\": \"Begin with both hands in front of you with your dominant hand closer to you, your hands pointing up, and your palms oriented to the side in opposite directions. Begin with your hands slightly away from each other and then have them make contact with each other 2 times.\"},\n",
    "    {\"sign\": \"city\", \"expected\": \"With both hands next to each other in front of you and your palms oriented toward each other, move your hands forward and backwards slightly a couple of times, touching your fingertips together as your hands move past each other.\"},\n",
    "    {\"sign\": \"dog\", \"expected\": \"Extend the index finger straight up and touch the tip of the thumb to the tip of the middle finger with the ring and pinky fingers bent in the same way as the middle finger. Alternatively, tap your hip and then snap your fingers.\"},\n",
    "    {\"sign\": \"door\", \"expected\": \"Begin with both hands in front of you and next to each other, with your hands touching on the index finger side of your hands. Rotate the wrist of your dominant hand inward toward yourself a couple of times. This sign mimics a door opening.\"},\n",
    "    {\"sign\": \"bone\", \"expected\": \"Begin with both hands near your chest with your arms crossed at the wrist and your palms oriented towards yourself. Then, hit your wrists against each other 2 times.\"},\n",
    "    {\"sign\": \"food\", \"expected\": \"With your palm orientation towards yourself, place your fingertips against your mouth. Tap your fingertips against your mouth 2 times.\"},\n",
    "    {\"sign\": \"friend\", \"expected\": \"Begin with your index fingers oriented toward each other, with your dominant hand oriented away from yourself and your non-dominant hand oriented toward yourself. Bring your index fingers toward each other until they make contact and then rotate your hands so that your palm orientations are reversed and then make contact with your index fingers again.\"},\n",
    "    {\"sign\": \"game\", \"expected\": \"Place both hands in front of you with your thumbs pointing up and your palms oriented toward yourself. Tap the back of your curled in fingers against each other a couple of times.\"},\n",
    "    {\"sign\": \"house\", \"expected\": \"Make the outline of a house with your hands by starting with your index fingers against each other, moving both hands away from each other, and then moving them down.\"},\n",
    "    {\"sign\": \"look\", \"expected\": \"With your hands oriented toward each other, move them both in a staggered, circular motion that move from above your shoulders to in front of your face a couple of times.\"},\n",
    "    {\"sign\": \"frog\", \"expected\": \"Place your hand underneath your chin with your palm oriented down. Then, extend your index and middle fingers out 2 times.\"},\n",
    "    {\"sign\": \"frequently\", \"expected\": \"Begin with your hand near your shoulder. Move your hand away from yourself while also slightly moving it up and down.\"},\n",
    "    {\"sign\": \"often\", \"expected\": \"Tap the fingertips of your dominant hand on the bottom of the palm of your non-dominant hand, and then tap it again a few times as you move it toward the top of your non-dominant hand.\"},\n",
    "    {\"sign\": \"sometimes\", \"expected\": \"With your dominant hand horizontally in front of you, place the tip of your index finger above the palm side of your non-dominant hand. Then, move your index finger in a circular motion that first begins by moving down and back. The index finger should make contact with the palm side of your non-dominant hand each time your index finger moves down.\"},\n",
    "    {\"sign\": \"observe\", \"expected\": \"With both hands next to each other in front of you with your palms oriented down and your index and middle fingers pointing away from each other, move both hands in a circular rotation a couple of times.\"},\n",
    "    {\"sign\": \"football\", \"expected\": \"Begin with both hands in front of you with your hands oriented toward each other and slightly diagonal. Then, move your hands toward each other until your fingers are interlocked a couple of times.\"},\n",
    "    {\"sign\": \"military\", \"expected\": \"With your dominant hand above your non-dominant hand and your palms oriented toward yourself, tap both hands on your chest in unison a couple of times.\"},\n",
    "    {\"sign\": \"helicopter\", \"expected\": \"Place the palm of your dominant hand on top of the index finger of your non-dominant hand. Slightly rotate your wrist back and forth a few times. This sign mimics the movement and shape of a helicopter.\"},\n",
    "    {\"sign\": \"airplane\", \"expected\": \"Have your palm oriented downwards with your arm in front of you and elevated. Slightly move your hand forward 2 times. This sign mimics an airplane being in the air.\"},\n",
    "    {\"sign\": \"ocean\", \"expected\": \"Begin with both hands next to each other in front of you with your palms oriented away from yourself. Move your hands away from yourself, while slightly bending your wrists forward and back as your hands move forward.\"},\n",
    "    {\"sign\": \"visit\", \"expected\": \"Begin with both hands next to each other close to your chest with your palms oriented toward yourself. Then, move both hands in unison forward, away from yourself.\"},\n",
    "    {\"sign\": \"travel\", \"expected\": \"Begin with your hand in front of you with your palm oriented away from yourself and your hand vertical. Then, move your hand in a circular motion that begins by first moving your hand to the inside and then down. As your hand moves, you should be slightly moving it forward.\"},\n",
    "    {\"sign\": \"success\", \"expected\": \"Begin with both hands in front of you, diagonally pointing up and to the inside, and with your palms oriented to yourself. The index finger of your dominant hand should be against your chin, and your dominant hand should be further in front of you and in a slightly lower position. Then, rotate your wrists forward until your index fingers are pointing up and your palms are oriented away from yourself.\"},\n",
    "    {\"sign\": \"result\", \"expected\": \"Begin with both hands in front of you with your non-dominant hand horizontal and oriented toward yourself. The index and middle fingers of your dominant hand should be pointing away from yourself and be above the fingers of your non-dominant hand. Then, move your dominant hand to the side, past the fingers of your non-dominant hand, and then move your dominant hand down.\"},\n",
    "    {\"sign\": \"below\", \"expected\": \"With your hands in front of you and facing each other, keep your non-dominant hand in place, and move your dominant hand underneath your non-dominant hand.\"},\n",
    "    {\"sign\": \"wet\", \"expected\": \"Begin with both hands next to each other in front of you with your fingertips pointing up. Then, move your hands down a couple of times, bringing your fingertips together each time.\"},\n",
    "    {\"sign\": \"sweat\", \"expected\": \"Begin with both palms oriented toward your face with the backs of your fingers against your cheeks on both sides of your face. Then, bend your wrists down while opening up your fingers, mimicking sweat moving down both sides of your face.\"},\n",
    "    {\"sign\": \"sandals\", \"expected\": \"Slide the curled in index finger of your dominant hand in between the index and middle fingers of your dominant hand from the fingertips to the base of the fingers, mimicking a sandal strap being placed in between toes.\"},\n",
    "    {\"sign\": \"winter\", \"expected\": \"Begin with your hands in a vertical position next to each other with your palms oriented toward each other. The fingertips of your thumb and pinkie fingers should be close to each other. Then, slightly tap the fingertips of your thumb and index fingers together a couple of times.\"},\n",
    "    {\"sign\": \"outside\", \"expected\": \"Begin with your dominant hand in a raised position in front of you and to the side with your palm oriented toward yourself. Then, move your hand slightly away from yourself while bringing your fingertips together 2 times.\"},\n",
    "    {\"sign\": \"restroom\", \"expected\": \"Begin with your hand in front of you with your palm oriented down and your index and middle fingers pointing away from yourself. Bend your wrist down, and then move your hand back up and to the side, then bend your wrist down again.\"},\n",
    "    {\"sign\": \"ambulance\", \"expected\": \"Begin with both hands in front of you and your forearms vertical. Move your hands in a circular motion a couple of times. As you do each circle, open the fingertips of each hand. As you end each circle, you should close the fingertips back to the original handshape. This sign mimicks the lights of an ambulance flashing.\"},\n",
    "    {\"sign\": \"hospital\", \"expected\": \"Begin with your index and middle fingers pointing up and your hand near the opposite side of your forehead. Then, bring the thumb side of your hand against that side of your forehead, then bring it across and make contact with the other side of your forehead.\"},\n",
    "    {\"sign\": \"gym\", \"expected\": \"Tap your thumbs against the sides of your chest near your shoulders a couple of times.\"},\n",
    "    {\"sign\": \"heart\", \"expected\": \"Tap your middle finger on your chest where your heart is a couple of times.\"},\n",
    "    {\"sign\": \"emotions\", \"expected\": \"Begin with both hands in front of your chest with your hands oriented toward yourself. Then, alternate moving both hands toward then slightly up your chest a couple of times.\"},\n",
    "    {\"sign\": \"toy\", \"expected\": \"Begin with both hands next to each other in front of you with your palms oriented toward each other. Then, slightly rotate your wrists from side to side a couple of times.\"},\n",
    "    {\"sign\": \"young\", \"expected\": \"Begin with your hands next to each other in front of you with your palms oriented toward yourself and your fingers pointing at your chest. Then, move your hand toward yourself and slightly up, touching your fingertips on your chest 2 times.\"},\n",
    "    {\"sign\": \"nephew\", \"expected\": \"With the thumb side of your hand against the side of your forehead, slightly rotate your wrist back and forth a couple of times.\"},\n",
    "    {\"sign\": \"husband\", \"expected\": \"Begin with your palms oriented toward each other with the back of your dominant hand against your forehead and your non-dominant hand placed in front of you. Then, bring your dominant hand down until both of your palms are interlocked.\"},\n",
    "    {\"sign\": \"themselves\", \"expected\": \"Begin with your hand in front of you with your hand pointing away from yourself. Then, move your hand slightly forward and then to the side.\"},\n",
    "    {\"sign\": \"together\", \"expected\": \"Begin with both hands next to each other in front of you with your palms oriented towards each other and your hands pressed against each other. Then, move both hands in unison in a circular motion.\"},\n",
    "    {\"sign\": \"only\", \"expected\": \"Begin with your hand in front of you with your index finger pointing up and your palm oriented away from yourself. Then, rotate your wrist to the inside so that your palm is oriented toward yourself.\"},\n",
    "    {\"sign\": \"complete\", \"expected\": \"Begin with your dominant hand above the fingertips of your non-dominant hand with your dominant hand pointing away from you and your non-dominant hand pointing to the side. Then, move your dominant hand to the edge of your dominant hand and then move your dominant hand down past your fingertips.\"},\n",
    "    {\"sign\": \"stuck\", \"expected\": \"Begin with your hand in front of your neck with your palm oriented toward yourself and your index and middle fingers pointing at your neck, then move your hand back until your index and middle fingers are touching your neck.\"},\n",
    "    {\"sign\": \"money\", \"expected\": \"Begin with both hands in front of you with the palm of your non-dominant hand facing up. Bring your dominant hand down to your non-dominant hand a couple of times, with the back of the fingers of your dominant hand touching the palm of your non-dominant hand.\"},\n",
    "    {\"sign\": \"compassion\", \"expected\": \"Begin with both middle fingers on your chest. Then rotate your hands forwards, point your middle fingers down, and then make a circular motion a couple of times.\"},\n",
    "    {\"sign\": \"god\", \"expected\": \"Begin with your hand in front of your forehead with the thumb side of your hand closest to your head. Your hand should begin slightly angled forwards. Then you should straighten out your hand until your fingers are facing up, bring your hand a little bit closer to your face, then bring your hand down.\"},\n",
    "    {\"sign\": \"pet\", \"expected\": \"With both hands in front of you, have the index finger of your dominant hand pointing up and your non-dominant hand behind it. Then, drag the fingers of your dominant hand down your index finger while bending them in a couple of times.\"},\n",
    "    {\"sign\": \"lemon\", \"expected\": \"With your hand in a vertical position in front of your face, rotate your wrist a couple of times so that your thumb passes your chin each time.\"},\n",
    "    {\"sign\": \"wine\", \"expected\": \"Begin with your hand next to your mouth with your fingers pointing at your face. Then, move your hand in a circular motion a couple of times that first begins by moving forward and down.\"},\n",
    "    {\"sign\": \"tournament\", \"expected\": \"Begin with both hands next to each other in front of you with your hands vertical and your palms oriented away from yourself. Then, move your hands up and down in opposite directions a couple of times.\"},\n",
    "    {\"sign\": \"camera\", \"expected\": \"Begin with both hands on the side of your face with your palms oriented toward each other. Then, curl the index finger of your dominant hand a couple of times. This sign mimics a person holding a camera and taking a picture.\"},\n",
    "    {\"sign\": \"screen\", \"expected\": \"Begin with both hands in front of your face, with your index fingers touching each other. Then, bring your index fingers, out, down, and then in, making the outline of a rectangular screen with your fingers.\"},\n",
    "    {\"sign\": \"interact\", \"expected\": \"Begin with both hands in front of you with your dominant hand in front of your non-dominant hand. Then, move your hands away and toward yourself in opposite directions a couple of times.\"},\n",
    "    {\"sign\": \"behave\", \"expected\": \"Begin with both hands in front of you with your palms oriented downward and your fingertips pointing away from yourself. Move your hands from side to side in unison a couple of times.\"},\n",
    "    {\"sign\": \"argue\", \"expected\": \"Begin the sign with both hands in front of you and your index fingers pointed at each other. Then, rotate your hands forward a couple of times.\"},\n",
    "    {\"sign\": \"hear\", \"expected\": \"Begin with your hand next to the side of your head with your thumb pointing toward your ear. Then, move your thumb toward your ear while curling your index and middle fingers in.\"},\n",
    "    {\"sign\": \"preach\", \"expected\": \"Begin with your hand vertically oriented away from yourself in front of you and move your hand slightly forward a couple of times.\"},\n",
    "    {\"sign\": \"talented\", \"expected\": \"Begin with your dominant hand vertically in front of you with your palm oriented to the side. Wrap the fingers of your dominant hand around the pinkie side of your palm. Then, move your dominant hand forward while moving your fingertips to your palm.\"},\n",
    "    {\"sign\": \"shy\", \"expected\": \"Begin with the backs of your fingers against your cheek with your palm oriented forward. Then, rotate your wrist in, keeping your fingers against your cheek, until your palm is oriented toward yourself.\"},\n",
    "    {\"sign\": \"flirt\", \"expected\": \"Place both hands in front of you with your thumbs touching each other and the palm of your hands oriented down. Then move both your hands forwards together while wiggle all of your fingers except for your thumbs.\"},\n",
    "    {\"sign\": \"handsome\", \"expected\": \"With your palm oriented toward your face, move your hand in a circle around your face one time.\"},\n",
    "    {\"sign\": \"delicious\", \"expected\": \"Begin with your hand in front of your mouth with your palm oriented toward yourself, and then move your hand away from yourself. At the beginning of the sign, your index finger should be next to the tip of your thumb. As your hand move, you should slide your middle finger down to the bottom of your thumb.\"},\n",
    "    {\"sign\": \"later\", \"expected\": \"Begin with both hands in front of you with the thumb of your hand against the palm of your non-dominant hand. The movement of this sign is done by bending your index finger forward a couple of times.\"},\n",
    "    {\"sign\": \"quick\", \"expected\": \"Begin with both hands next to each other in front of you with your palms oriented toward each other, then move your hands forward and down. At the beginning of this movement the fingertips of your thumbs should be underneath the fingertips of your index fingers, then at the end your index fingers should be curled in and your thumbs should be pointing up.\"},\n",
    "    {\"sign\": \"hurry\", \"expected\": \"Begin with your hands next to each other with your index and middle fingers pointing away from you and your wrists slightly tilted up. Then, stagger moving both of your hands in a circular motion a couple of times.\"},\n",
    "    {\"sign\": \"ahead\", \"expected\": \"Begin with both hands in front of you with your dominant hand behind your non-dominant hand. Then, bring your dominant hand around and then in front of your non-dominant hand. This sign mimics one thing/person moving in front of another.\"},\n",
    "    {\"sign\": \"tomorrow\", \"expected\": \"Begin with your thumb touching the side of your chin with your palm oriented forward. Then, rotate your wrist forward until your thumb is pointing up.\"},\n",
    "    {\"sign\": \"nap\", \"expected\": \"Begin with your hand in front of your face with the fingertips of your hand pointing at the top of your head. Then, move your hand down to your chin while bringing your fingertips together.\"},\n",
    "    {\"sign\": \"clean\", \"expected\": \"With both hands oriented towards each other, slide your dominant hand across the palm of your non-dominant hand a couple of times.\"},\n",
    "    {\"sign\": \"towel\", \"expected\": \"Place your hands to the sides of your neck with your palms oriented away from yourself. Then, move your hands in unison from side to side a couple of times, mimicking a person using a towel to dry off their neck.\"},\n",
    "    {\"sign\": \"socks\", \"expected\": \"With your index fingers pointing forward and the sides of your index fingers against each other, slightly move your hands away from and toward yourself in alternating directions.\"},\n",
    "    {\"sign\": \"join\", \"expected\": \"Begin with your dominant hand behind your non-dominant hand. The index and middle fingers of your dominant hand should be pointing up and your non-dominant hand should be oriented so that the opening between your thumb and other fingers is facing your dominant hand. Then, bend the wrist of your right hand down and place your index and middle fingers into the opening between your thumb and other fingers.\"},\n",
    "    {\"sign\": \"quit\", \"expected\": \"Begin with the index and middle fingers of your dominant hand inside the curled-in fingers of your non-dominant hand. Then, you should move your dominant hand away, moving your index and middle fingers out and then pointing them up.\"}\n",
    "]\n"
   ]
  },
  {
   "cell_type": "code",
   "execution_count": null,
   "metadata": {},
   "outputs": [
    {
     "name": "stdout",
     "output_type": "stream",
     "text": [
      "\n",
      "🔍 Evaluating sign: car\n",
      "\n",
      "🔍 Evaluating sign: city\n",
      "\n",
      "🔍 Evaluating sign: dog\n",
      "\n",
      "🔍 Evaluating sign: door\n",
      "\n",
      "🔍 Evaluating sign: bone\n",
      "\n",
      "🔍 Evaluating sign: food\n",
      "\n",
      "🔍 Evaluating sign: friend\n",
      "\n",
      "🔍 Evaluating sign: game\n",
      "\n",
      "🔍 Evaluating sign: house\n",
      "\n",
      "🔍 Evaluating sign: look\n",
      "\n",
      "🔍 Evaluating sign: frog\n",
      "\n",
      "🔍 Evaluating sign: frequently\n",
      "\n",
      "🔍 Evaluating sign: often\n",
      "\n",
      "🔍 Evaluating sign: sometimes\n",
      "\n",
      "🔍 Evaluating sign: observe\n",
      "\n",
      "🔍 Evaluating sign: football\n"
     ]
    }
   ],
   "source": [
    "# Store all scores\n",
    "all_scores = []\n",
    "# counter in testing to stop after defined number of test data entries\n",
    "\n",
    "for entry in test_data:\n",
    "    print(f\"\\n🔍 Evaluating sign: {entry['sign']}\")\n",
    "    sign = entry[\"sign\"]\n",
    "    expected = entry[\"expected\"]\n",
    "\n",
    "    # Generate from LLM\n",
    "    generated = generate_asl_description(sign)\n",
    "\n",
    "    # Judge against expected\n",
    "    scores = evaluate_against_ground_truth(sign, generated, expected)\n",
    "\n",
    "    all_scores.append(scores)\n",
    "\n",
    "# Compute and print average for each metric\n",
    "print(\"\\n📊 Average Scores:\")\n",
    "faithfulness_avg = sum(s[\"faithfulness\"] for s in all_scores if s[\"faithfulness\"] is not None) / len(all_scores)\n",
    "print(f\"Faithfulness: {faithfulness_avg:.2f}\")\n",
    "relevance_avg = sum(s[\"answer_relevance\"] for s in all_scores if s[\"answer_relevance\"] is not None) / len(all_scores)\n",
    "print(f\"Answer Relevance: {relevance_avg:.2f}\")\n",
    "context_avg = sum(s[\"context_relevance\"] for s in all_scores if s[\"context_relevance\"] is not None) / len(all_scores)\n",
    "print(f\"Context Relevance: {context_avg:.2f}\")"
   ]
  },
  {
   "cell_type": "code",
   "execution_count": null,
   "metadata": {},
   "outputs": [
    {
     "data": {
      "image/png": "[encoded data removed]",
      "text/plain": [
       "<Figure size 640x480 with 1 Axes>"
      ]
     },
     "metadata": {},
     "output_type": "display_data"
    }
   ],
   "source": [
    "import matplotlib.pyplot as plt\n",
    "\n",
    "# Plot\n",
    "labels = [\"Faithfulness\", \"Answer Relevance\", \"Context Relevance\"]\n",
    "values = [faithfulness_avg, relevance_avg, context_avg]\n",
    "\n",
    "_, ax = plt.subplots()\n",
    "ax.bar(labels, values)\n",
    "ax.set_ylim(0, 1)\n",
    "ax.set_ylabel(\"Average Score\")\n",
    "ax.set_xlabel(\"Evaluation Metric\")\n",
    "ax.set_title(\"ASL Evaluation Scores\")\n",
    "plt.show()"
   ]
  }
 ],
 "metadata": {
  "kernelspec": {
   "display_name": "aiml25-ma2",
   "language": "python",
   "name": "python3"
  },
  "language_info": {
   "codemirror_mode": {
    "name": "ipython",
    "version": 3
   },
   "file_extension": ".py",
   "mimetype": "text/x-python",
   "name": "python",
   "nbconvert_exporter": "python",
   "pygments_lexer": "ipython3",
   "version": "3.11.11"
  }
 },
 "nbformat": 4,
 "nbformat_minor": 2
}
