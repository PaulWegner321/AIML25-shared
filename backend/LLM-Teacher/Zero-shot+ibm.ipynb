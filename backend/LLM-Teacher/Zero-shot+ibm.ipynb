{
 "cells": [
  {
   "cell_type": "code",
   "execution_count": 2,
   "metadata": {},
   "outputs": [],
   "source": [
    "import pandas as pd\n",
    "from ibm_watsonx_ai import Credentials, APIClient\n",
    "from ibm_watsonx_ai.foundation_models import ModelInference\n",
    "from ibm_watsonx_ai.foundation_models.schema import TextGenParameters\n",
    "from decouple import Config, RepositoryEnv\n"
   ]
  },
  {
   "cell_type": "code",
   "execution_count": 3,
   "metadata": {},
   "outputs": [],
   "source": [
    "# Load the environment variables using python-decouple\n",
    "# The .env file should be in the root of the project\n",
    "# The .env file should NOT be committed to the repository\n",
    "\n",
    "config = Config(RepositoryEnv(\".env.paul\"))\n",
    "\n",
    "# Load the credentials\n",
    "WX_API_KEY = config(\"WX_API_KEY\")"
   ]
  },
  {
   "cell_type": "code",
   "execution_count": 4,
   "metadata": {},
   "outputs": [],
   "source": [
    "credentials = Credentials(\n",
    "    url = \"https://us-south.ml.cloud.ibm.com\",\n",
    "    api_key = WX_API_KEY\n",
    ")\n",
    "client = APIClient(\n",
    "    credentials=credentials, \n",
    "    project_id=\"68126b74-155e-4a70-aa2c-1781dfad87f6\"\n",
    ")"
   ]
  },
  {
   "cell_type": "code",
   "execution_count": 5,
   "metadata": {},
   "outputs": [
    {
     "data": {
      "text/plain": [
       "{'model_id': 'ibm/granite-3-8b-instruct',\n",
       " 'model_version': '1.1.0',\n",
       " 'created_at': '2025-05-04T18:33:06.688Z',\n",
       " 'results': [{'generated_text': \"\\n\\nI'm currently in Copenhagen, Denmark, and I'm excited to share some insights about this beautiful city. Copenhagen is the capital and largest city of Denmark, known for its rich history, stunning architecture, and vibrant culture.\\n\\n1. **Historical Landmarks**: Copenhagen boasts a wealth of historical landmarks. The iconic Little Mermaid statue, inspired by Hans Christian Andersen's fairy tale, is a must-visit. The Amalienborg Palace, home to the Danish royal family, is another popular attraction. Don't miss the Rosenborg Castle, which houses the Danish crown jewels and royal artifacts.\\n\\n2. **Museums**: Copenhagen is a hub for art and culture. The National Museum of Denmark offers a comprehensive overview of Danish history, while the Louisiana Museum of Modern Art showcases an impressive collection of modern and contemporary art. The Design Museum Denmark is a great place to explore Danish design.\\n\\n3. **Architecture**: Copenhagen's architecture is a blend of medieval, Renaissance, and modern styles. The city's unique waterfront, with its colorful houses and historic buildings, is a sight to be\",\n",
       "   'generated_token_count': 300,\n",
       "   'input_token_count': 7,\n",
       "   'stop_reason': 'max_tokens'}]}"
      ]
     },
     "execution_count": 5,
     "metadata": {},
     "output_type": "execute_result"
    }
   ],
   "source": [
    "# --- Setup the Model (Granite-13b-chat-v2) ---\n",
    "params = TextGenParameters(\n",
    "    temperature=0.05,           # Light creativity\n",
    "    max_new_tokens=300          # Enough for descriptive text\n",
    ")\n",
    "\n",
    "model = ModelInference(\n",
    "    api_client=client,\n",
    "    params=params,\n",
    "    model_id=\"ibm/granite-3-8b-instruct\",\n",
    ")\n",
    "prompt = \"Hello from copenhagen!\"\n",
    "generated_response = model.generate(prompt)\n",
    "\n",
    "generated_response"
   ]
  },
  {
   "cell_type": "code",
   "execution_count": 6,
   "metadata": {},
   "outputs": [],
   "source": [
    "def create_prompt(sign_name: str) -> str:\n",
    "    return (\n",
    "        f\"You are an American Sign Language (ASL) teacher.\\n\\n\"\n",
    "        f\"Please clearly explain how to perform the ASL sign on a beginner level for '{sign_name}'. \"\n",
    "        f\"Use simple language and full sentences. Do not assume any prior knowledge about ASL.\\n\\n\"\n",
    "    )\n"
   ]
  },
  {
   "cell_type": "code",
   "execution_count": 7,
   "metadata": {},
   "outputs": [],
   "source": [
    "# --- Generate ASL Description ---\n",
    "def generate_asl_description(sign_name: str) -> str:\n",
    "    prompt = create_prompt(sign_name)\n",
    "    \n",
    "    response = model.generate(prompt=prompt)\n",
    "    generated_text = response['results'][0]['generated_text']\n",
    "    \n",
    "    return generated_text"
   ]
  },
  {
   "cell_type": "code",
   "execution_count": 7,
   "metadata": {},
   "outputs": [
    {
     "name": "stdout",
     "output_type": "stream",
     "text": [
      "\n",
      "✅ Generated ASL Description:\n",
      "\n",
      "\n",
      "To sign 'piano' in American Sign Language (ASL), follow these steps:\n",
      "\n",
      "1. Start with your dominant hand open and facing up, palm facing you.\n",
      "2. Bring your hand down to your thigh or knee area, keeping your fingers together and your thumb extended out to the side.\n",
      "3. Touch the tip of your index finger to the tip of your thumb, forming a small circle.\n",
      "4. While maintaining the circle with your index finger and thumb, move your hand up and down in a small, repetitive motion, as if you were pressing the keys of a piano.\n",
      "\n",
      "Remember, ASL is a visual language, so it's essential to use facial expressions and movements to convey the meaning accurately. In this case, you can use a neutral or slightly curious facial expression to signify asking about or identifying the instrument.\n",
      "\n",
      "Practice this sign regularly to improve your proficiency in ASL.\n"
     ]
    }
   ],
   "source": [
    "# --- Example Usage ---\n",
    "if __name__ == \"__main__\":\n",
    "    sign_to_explain = input(\"📝 Enter the ASL sign you want explained: \")\n",
    "\n",
    "    try:\n",
    "        description = generate_asl_description(sign_to_explain)\n",
    "        print(\"\\n✅ Generated ASL Description:\\n\")\n",
    "        print(description)\n",
    "    except Exception as e:\n",
    "        print(f\"❌ Error during generation: {e}\")"
   ]
  },
  {
   "cell_type": "markdown",
   "metadata": {},
   "source": [
    "Judge"
   ]
  },
  {
   "cell_type": "code",
   "execution_count": 8,
   "metadata": {},
   "outputs": [],
   "source": [
    "# Separate model instance for evaluation (judge)\n",
    "judge_model = ModelInference(\n",
    "    api_client=client,\n",
    "    params=params, \n",
    "    model_id=\"meta-llama/llama-3-3-70b-instruct\",\n",
    ")\n"
   ]
  },
  {
   "cell_type": "code",
   "execution_count": 9,
   "metadata": {},
   "outputs": [],
   "source": [
    "def create_judge_prompt(sign_name: str, description: str) -> str:\n",
    "    return f\"\"\"You are evaluating the quality of a generated ASL (American Sign Language) sign description based on 3 criteria.\n",
    "The criteria are:\n",
    "1. Faithfulness: Are the claims in the answer factually consistent with known ASL practices (no hallucinations)?\n",
    "2. Answer Relevance: Does the description directly describe the sign requested?\n",
    "3. Context Relevance: Does the answer exclusively contain information that is needed to describe the sign?\n",
    "\n",
    "Use the following scale:\n",
    "- 1 = fully meets the criterion\n",
    "- 0.5 = partially meets the criterion\n",
    "- 0 = does not meet the criterion\n",
    "\n",
    "Think carefully for each criterion.\n",
    "\n",
    "ASL Sign Request:\n",
    "\"{sign_name}\"\n",
    "\n",
    "Generated Description:\n",
    "\"{description}\"\n",
    "\n",
    "Respond as a JSON object, exactly like this (no extra text or comments):\n",
    "\n",
    "{{\n",
    "  \"faithfulness\": <0, 0.5, or 1>,\n",
    "  \"answer_relevance\": <0, 0.5, or 1>,\n",
    "  \"context_relevance\": <0, 0.5, or 1>\n",
    "}}\"\"\"\n"
   ]
  },
  {
   "cell_type": "code",
   "execution_count": null,
   "metadata": {},
   "outputs": [],
   "source": [
    "def evaluate_description(sign_name: str, description: str) -> dict:\n",
    "    import json, re\n",
    "\n",
    "    judge_prompt = create_judge_prompt(sign_name, description)\n",
    "    response = judge_model.generate(prompt=judge_prompt)\n",
    "    judged_text = response['results'][0]['generated_text']\n",
    "\n",
    "    # Default fallback result\n",
    "    judge_result = {\n",
    "        \"faithfulness\": None,\n",
    "        \"answer_relevance\": None,\n",
    "        \"context_relevance\": None\n",
    "    }\n",
    "\n",
    "    try:\n",
    "        parsed = json.loads(judged_text)\n",
    "        if isinstance(parsed, dict):\n",
    "            judge_result.update(parsed)\n",
    "    except Exception:\n",
    "        matches = re.findall(r\"\\{.*?\\}\", judged_text, re.DOTALL)\n",
    "        if matches:\n",
    "            try:\n",
    "                parsed = json.loads(matches[0])\n",
    "                if isinstance(parsed, dict):\n",
    "                    judge_result.update(parsed)\n",
    "            except Exception as e:\n",
    "                print(f\"❌ Fallback parse failed: {e}\")\n",
    "        else:\n",
    "            print(\"❌ No JSON object found in model output.\")\n",
    "\n",
    "    return judge_result"
   ]
  },
  {
   "cell_type": "code",
   "execution_count": 12,
   "metadata": {},
   "outputs": [],
   "source": [
    "#manual testing\n",
    "def run_manual_judge(sign_name: str, description: str):\n",
    "    \"\"\"\n",
    "    Evaluate a manually provided sign name and ASL description using the current judge.\n",
    "    Prints the scores directly.\n",
    "    \"\"\"\n",
    "    try:\n",
    "        result = evaluate_description(sign_name, description)\n",
    "\n",
    "        print(\"\\nEvaluation Result:\")\n",
    "        print(f\"Sign: {sign_name}\")\n",
    "        print(f\"Description: {description}\")\n",
    "        print(f\"Faithfulness: {result.get('faithfulness')}\")\n",
    "        print(f\"Answer Relevance: {result.get('answer_relevance')}\")\n",
    "        print(f\"Context Relevance: {result.get('context_relevance')}\")\n",
    "\n",
    "    except Exception as e:\n",
    "        print(f\"❌ Error while evaluating: {e}\")\n"
   ]
  },
  {
   "cell_type": "code",
   "execution_count": null,
   "metadata": {},
   "outputs": [
    {
     "name": "stdout",
     "output_type": "stream",
     "text": [
      "\n",
      "Evaluation Result:\n",
      "Sign: salad\n",
      "Description: To sign 'salad' in American Sign Language (ASL), follow these steps: 1. Start with your dominant hand open and facing up, palm facing you. 2. Bring your hand down to your lap or any stable surface in front of you, keeping your fingers together and your thumb extended out to the side. 3. Touch your index finger and your middle finger together, keeping your other fingers straight. 4. Move your hand back up to your face level, keeping your fingers together and your thumb extended out to the side. 5. This time, bring your hand closer to your chin, as if you're eating a small bite of salad. 6. While moving your hand up, slightly bend your index and middle fingers to mimic the shape of a leaf. 7. Keep your thumb extended out to the side and your other fingers straight. 8. Finally, move your hand down to your lap or any stable surface in front of you, keeping your fingers together and your thumb extended out to the side. Remember, practice makes perfect. Keep practicing the sign for 'salad' until you feel comfortable with it. Good luck!\n",
      "Faithfulness: 0\n",
      "Answer Relevance: 0.5\n",
      "Context Relevance: 0.5\n"
     ]
    }
   ],
   "source": [
    "#run_manual_judge(\n",
    "#    sign_name=\"salad\",\n",
    "#    description=\"To sign 'salad' in American Sign Language (ASL), follow these steps: 1. Start with your dominant hand open and facing up, palm facing you. 2. Bring your hand down to your lap or any stable surface in front of you, keeping your fingers together and your thumb extended out to the side. 3. Touch your index finger and your middle finger together, keeping your other fingers straight. 4. Move your hand back up to your face level, keeping your fingers together and your thumb extended out to the side. 5. This time, bring your hand closer to your chin, as if you're eating a small bite of salad. 6. While moving your hand up, slightly bend your index and middle fingers to mimic the shape of a leaf. 7. Keep your thumb extended out to the side and your other fingers straight. 8. Finally, move your hand down to your lap or any stable surface in front of you, keeping your fingers together and your thumb extended out to the side. Remember, practice makes perfect. Keep practicing the sign for 'salad' until you feel comfortable with it. Good luck!\"\n",
    "#)\n"
   ]
  },
  {
   "cell_type": "code",
   "execution_count": 13,
   "metadata": {},
   "outputs": [
    {
     "name": "stdout",
     "output_type": "stream",
     "text": [
      "👋 Welcome to the ASL Sign Generator using Granite-13b!\n",
      "\n",
      "✅ Generated ASL Description:\n",
      "\n",
      "\n",
      "To sign 'piano' in American Sign Language (ASL), follow these steps:\n",
      "\n",
      "1. Start with your dominant hand open and facing up, palm towards you.\n",
      "2. Bring your hand down to your thigh or knee area, keeping your fingers together and your thumb extended out to the side.\n",
      "3. Touch the tip of your index finger to the tip of your thumb, forming a small circle.\n",
      "4. While maintaining the circle with your fingers and thumb, move your hand up and down in a small, repetitive motion, as if you were pressing the keys of a piano.\n",
      "\n",
      "Remember, ASL is a visual language, so it's essential to use facial expressions and movements to convey the meaning accurately. In this case, you can use a neutral or slightly curious facial expression to signify asking about or identifying the piano.\n",
      "\n",
      "Practice this sign regularly to improve your proficiency in ASL.\n",
      "\n",
      "📊 Evaluation Result:\n",
      " Faithfulness: 1\n",
      " Answer Relevance: 1\n",
      " Context Relevance: 0.5\n"
     ]
    }
   ],
   "source": [
    "if __name__ == \"__main__\":\n",
    "    print(\"👋 Welcome to the ASL Sign Generator using Granite-13b!\")\n",
    "    sign_to_explain = input(\"📝 Enter the ASL sign you want explained: \")\n",
    "\n",
    "    try:\n",
    "        # Generate ASL description\n",
    "        description = generate_asl_description(sign_to_explain)\n",
    "        print(\"\\n✅ Generated ASL Description:\\n\")\n",
    "        print(description)\n",
    "\n",
    "        # Judge the description\n",
    "        judge_result = evaluate_description(sign_to_explain, description)\n",
    "\n",
    "        print(\"\\n📊 Evaluation Result:\")\n",
    "        print(f\" Faithfulness: {judge_result.get('faithfulness')}\")\n",
    "        print(f\" Answer Relevance: {judge_result.get('answer_relevance')}\")\n",
    "        print(f\" Context Relevance: {judge_result.get('context_relevance')}\")\n",
    "\n",
    "    except Exception as e:\n",
    "        print(f\"❌ Error during generation or evaluation: {e}\")\n",
    "\n",
    "\n",
    "\n"
   ]
  },
  {
   "cell_type": "markdown",
   "metadata": {},
   "source": [
    "Mass evaluation"
   ]
  },
  {
   "cell_type": "code",
   "execution_count": 11,
   "metadata": {},
   "outputs": [],
   "source": [
    "import json, re"
   ]
  },
  {
   "cell_type": "code",
   "execution_count": 12,
   "metadata": {},
   "outputs": [],
   "source": [
    "def create_comparison_judge_prompt(sign_name: str, generated_description: str, expected_description: str) -> str:\n",
    "    return f\"\"\"You are evaluating the quality of an ASL sign description based on 3 criteria by comparing it to an expected definition.\n",
    "\n",
    "Sign: \"{sign_name}\"\n",
    "\n",
    "Expected (ground truth) description:\n",
    "\"{expected_description}\"\n",
    "\n",
    "Generated description:\n",
    "\"{generated_description}\"\n",
    "\n",
    "The criteria are:\n",
    "1. Faithfulness: Are the claims in the answer factually consistent with the expected definition?\n",
    "2. Answer Relevance: Does the description directly describe the sign requested?\n",
    "3. Context Relevance: Does the answer exclusively contain information that is needed to describe the sign?\n",
    "\n",
    "Use the following scale:\n",
    "- 1 = fully meets the criterion\n",
    "- 0.5 = partially meets the criterion\n",
    "- 0 = does not meet the criterion\n",
    "\n",
    "Think carefully for each criterion.\n",
    "\n",
    "Respond only as JSON in the following format (no extra text or comments):\n",
    "\n",
    "{{\n",
    "  \"faithfulness\": <0, 0.5, or 1>,\n",
    "  \"answer_relevance\": <0, 0.5, or 1>,\n",
    "  \"context_relevance\": <0, 0.5, or 1>\n",
    "}}\"\"\"\n",
    "\n",
    "\n"
   ]
  },
  {
   "cell_type": "code",
   "execution_count": 14,
   "metadata": {},
   "outputs": [],
   "source": [
    "def evaluate_against_ground_truth(sign_name: str, generated_description: str, expected_description: str) -> dict:\n",
    "\n",
    "    prompt = create_comparison_judge_prompt(sign_name, generated_description, expected_description)\n",
    "    response = judge_model.generate(prompt=prompt)\n",
    "    judged_text = response['results'][0]['generated_text']\n",
    "\n",
    "    result = {\n",
    "        \"faithfulness\": None,\n",
    "        \"answer_relevance\": None,\n",
    "        \"context_relevance\": None\n",
    "    }\n",
    "\n",
    "    try:\n",
    "        parsed = json.loads(judged_text)\n",
    "        if isinstance(parsed, dict):\n",
    "            result.update(parsed)\n",
    "    except Exception:\n",
    "        matches = re.findall(r\"\\{.*?\\}\", judged_text, re.DOTALL)\n",
    "        if matches:\n",
    "            try:\n",
    "                parsed = json.loads(matches[0])\n",
    "                if isinstance(parsed, dict):\n",
    "                    result.update(parsed)\n",
    "            except Exception as e:\n",
    "                print(f\"❌ Fallback parse failed: {e}\")\n",
    "        else:\n",
    "            print(\"❌ No JSON object found in model output.\")\n",
    "\n",
    "    return result\n"
   ]
  },
  {
   "cell_type": "code",
   "execution_count": 18,
   "metadata": {},
   "outputs": [
    {
     "name": "stdout",
     "output_type": "stream",
     "text": [
      "\n",
      "📊 Judge Result:\n",
      "Faithfulness: 0\n",
      "Answer Relevance: 0\n",
      "Context Relevance: 0\n"
     ]
    }
   ],
   "source": [
    "#Testing judge with manual input\n",
    "sign = \"salad\"\n",
    "expected = \"Mimic the motion of tossing a salad with both hands moving slightly upward in front of you.\"\n",
    "generated = \"do whatever you want and dance around like a salad.\"\n",
    "\n",
    "scores = evaluate_against_ground_truth(sign, generated, expected)\n",
    "\n",
    "print(\"\\n📊 Judge Result:\")\n",
    "print(f\"Faithfulness: {scores['faithfulness']}\")\n",
    "print(f\"Answer Relevance: {scores['answer_relevance']}\")\n",
    "print(f\"Context Relevance: {scores['context_relevance']}\")\n"
   ]
  },
  {
   "cell_type": "code",
   "execution_count": 24,
   "metadata": {},
   "outputs": [],
   "source": [
    "# Define signs and their expected definitions\n",
    "test_data = [\n",
    "    {\"sign\": \"car\", \"expected\": \"Begin with both hands in front of you with your dominant hand closer to you, your hands pointing up, and your palms oriented to the side in opposite directions. Begin with your hands slightly away from each other and then have them make contact with each other 2 times.\"},\n",
    "    {\"sign\": \"city\", \"expected\": \"With both hands next to each other in front of you and your palms oriented toward each other, move your hands forward and backwards slightly a couple of times, touching your fingertips together as your hands move past each other.\"},\n",
    "    {\"sign\": \"clothes\", \"expected\": \"Brush your chest with your palms down with your hands splayed and thumbs pointing toward yourself. You should do this with both hands simultaneously and repeat the motion twice.\"},\n",
    "    {\"sign\": \"cold\", \"expected\": \"Begin with your hands in fists and hold them out in front of you, about chest height, and then move them back and forth like you’re shivering.\"},\n",
    "    {\"sign\": \"dog\", \"expected\": \"Extend the index finger straight up and touch the tip of the thumb to the tip of the middle finger with the ring and pinky fingers bent in the same way as the middle finger. Alternatively, tap your hip and then snap your fingers.\"},\n",
    "    {\"sign\": \"eat\", \"expected\": \"With your palm orientation towards yourself, place your fingertips against your mouth. Tap your fingertips against your mouth 2 times.\"},\n",
    "    {\"sign\": \"family\", \"expected\": \"With both hands in the ‘F’ handshape (circle with index and thumb touching), start with them together at the index finger and move them in an arc outward until the pinkies touch.\"},\n",
    "    {\"sign\": \"food\", \"expected\": \"With your palm orientation towards yourself, place your fingertips against your mouth. Tap your fingertips against your mouth 2 times.\"},\n",
    "    {\"sign\": \"friend\", \"expected\": \"Begin with your index fingers oriented toward each other, with your dominant hand oriented away from yourself and your non-dominant hand oriented toward yourself. Bring your index fingers toward each other until they make contact and then rotate your hands so that your palm orientations are reversed and then make contact with your index fingers again.\"},\n",
    "    {\"sign\": \"game\", \"expected\": \"Place both hands in front of you with your thumbs pointing up and your palms oriented toward yourself. Tap the back of your curled in fingers against each other a couple of times.\"},\n",
    "    {\"sign\": \"girl\", \"expected\": \"Make a fist and brush your knuckles from the earlobe down to the chin.\"},\n",
    "    {\"sign\": \"go\", \"expected\": \"Point both index fingers forward and then move them forward together in the same direction.\"},\n",
    "    {\"sign\": \"good\", \"expected\": \"Place your fingers on your chin, palm toward you, and move your hand away from your face to your other hand’s open palm.\"},\n",
    "    {\"sign\": \"goodbye\", \"expected\": \"Wave your dominant hand with fingers spread and palm facing out.\"},\n",
    "    {\"sign\": \"happy\", \"expected\": \"Brush the chest upward with the palm of your hand a couple of times. The movement is upward and outward, as if happiness is coming from your heart.\"},\n",
    "    {\"sign\": \"help\", \"expected\": \"Make a fist with one hand and place your other hand flat underneath it, then lift both hands together upward slightly.\"},\n",
    "    {\"sign\": \"home\", \"expected\": \"Touch your mouth with your fingertips, then move your hand to touch your cheek near your ear.\"},\n",
    "    {\"sign\": \"house\", \"expected\": \"Make the outline of a house with your hands by starting with your index fingers against each other, moving both hands away from each other, and then moving them down.\"},\n",
    "    {\"sign\": \"love\", \"expected\": \"Cross your arms over your chest with closed fists.\"},\n",
    "    {\"sign\": \"man\", \"expected\": \"Touch your forehead with the thumb of your open hand and then move it to your chest.\"},\n",
    "    {\"sign\": \"milk\", \"expected\": \"Make both hands into fists and mimic the motion of milking a cow by opening and closing your hands twice.\"},\n",
    "    {\"sign\": \"mom\", \"expected\": \"Extend and spread your fingers on your dominant hand, then place your thumb on your chin.\"},\n",
    "    {\"sign\": \"more\", \"expected\": \"Bring the fingertips of both flat O-shaped hands together repeatedly.\"},\n",
    "    {\"sign\": \"name\", \"expected\": \"Extend the index and middle fingers of both hands. Stack the fingers of one hand atop the other and tap twice.\"},\n",
    "    {\"sign\": \"no\", \"expected\": \"Pinch your index and middle fingers to your thumb, like a talking mouth, and repeat the motion twice.\"},\n",
    "    {\"sign\": \"pizza\", \"expected\": \"Place your hand in front of your face with your fingers pointing at your mouth. Then, slightly move your hand toward your mouth a couple of times.\"},\n",
    "    {\"sign\": \"please\", \"expected\": \"Place your flat hand on your chest and move it in a circular motion.\"},\n",
    "    {\"sign\": \"sad\", \"expected\": \"Place your hands in front of your face with fingers spread and palms facing in. Move your hands slowly down your face.\"},\n",
    "    {\"sign\": \"salad\", \"expected\": \"Mimic the motion of tossing a salad by placing both hands next to each other in front of your with your palms oriented toward each other, and then slightly moving your hands toward each other and up a couple of times.\"},\n",
    "    {\"sign\": \"school\", \"expected\": \"Clap your hands together twice with palms facing each other, one above the other.\"},\n",
    "    {\"sign\": \"shoes\", \"expected\": \"Make two fists and bump them together twice at the knuckles.\"},\n",
    "    {\"sign\": \"sick\", \"expected\": \"Place one hand on your stomach and the other on your forehead.\"},\n",
    "    {\"sign\": \"sleep\", \"expected\": \"Open your hand in front of your face and bring your fingers together as you move the hand down, ending with a closed hand near your chin.\"},\n",
    "    {\"sign\": \"sorry\", \"expected\": \"Make an A-handshape (fist with thumb on the outside) and rub it in a circular motion on your chest.\"},\n",
    "    {\"sign\": \"stop\", \"expected\": \"Hold one hand flat, palm up. Bring your other hand down sharply onto the palm.\"},\n",
    "    {\"sign\": \"store\", \"expected\": \"With both hands in flat O-handshape (fingers touching thumb), flip your hands forward away from your mouth.\"},\n",
    "    {\"sign\": \"thank you\", \"expected\": \"Place the fingers of one hand near your mouth and move it forward and slightly down.\"},\n",
    "    {\"sign\": \"thirsty\", \"expected\": \"With your index finger, draw a line down the center of your throat.\"},\n",
    "    {\"sign\": \"toilet\", \"expected\": \"Make the letter T in ASL and shake your hand side to side.\"},\n",
    "    {\"sign\": \"walk\", \"expected\": \"Hold your hands palm down and alternate moving them forward to mimic the movement of walking feet.\"},\n",
    "    {\"sign\": \"water\", \"expected\": \"Make the ASL 'W' sign and tap it to your chin.\"},\n",
    "    {\"sign\": \"yes\", \"expected\": \"Make a fist and bob it up and down, like a nodding head.\"},\n",
    "    {\"sign\": \"you\", \"expected\": \"Point directly at the person you are referring to.\"},\n",
    "    {\"sign\": \"zebra\", \"expected\": \"Spread the fingers of both hands and place them at alternating angles in front of your chest, then alternate moving them back and forth horizontally like a zebra’s stripes.\"}\n",
    "]\n"
   ]
  },
  {
   "cell_type": "code",
   "execution_count": null,
   "metadata": {},
   "outputs": [
    {
     "name": "stdout",
     "output_type": "stream",
     "text": [
      "\n",
      "🔍 Evaluating sign: car\n"
     ]
    }
   ],
   "source": [
    "# Store all scores\n",
    "all_scores = []\n",
    "# counter in testing to stop after defined number of test data entries\n",
    "i=0\n",
    "\n",
    "for entry in test_data:\n",
    "    print(f\"\\n🔍 Evaluating sign: {entry['sign']}\")\n",
    "    sign = entry[\"sign\"]\n",
    "    expected = entry[\"expected\"]\n",
    "\n",
    "    # Generate from LLM\n",
    "    generated = generate_asl_description(sign)\n",
    "\n",
    "    # Judge against expected\n",
    "    scores = evaluate_against_ground_truth(sign, generated, expected)\n",
    "\n",
    "    all_scores.append(scores)\n",
    "\n",
    "# Compute and print average for each metric\n",
    "print(\"\\n📊 Average Scores:\")\n",
    "faithfulness_avg = sum(s[\"faithfulness\"] for s in all_scores if s[\"faithfulness\"] is not None) / len(all_scores)\n",
    "print(f\"Faithfulness: {faithfulness_avg:.2f}\")\n",
    "relevance_avg = sum(s[\"answer_relevance\"] for s in all_scores if s[\"answer_relevance\"] is not None) / len(all_scores)\n",
    "print(f\"Answer Relevance: {relevance_avg:.2f}\")\n",
    "context_avg = sum(s[\"context_relevance\"] for s in all_scores if s[\"context_relevance\"] is not None) / len(all_scores)\n",
    "print(f\"Context Relevance: {context_avg:.2f}\")"
   ]
  },
  {
   "cell_type": "code",
   "execution_count": 23,
   "metadata": {},
   "outputs": [
    {
     "data": {
      "image/png": "[encoded data removed]",
      "text/plain": [
       "<Figure size 640x480 with 1 Axes>"
      ]
     },
     "metadata": {},
     "output_type": "display_data"
    }
   ],
   "source": [
    "import matplotlib.pyplot as plt\n",
    "\n",
    "# Plot\n",
    "labels = [\"Faithfulness\", \"Answer Relevance\", \"Context Relevance\"]\n",
    "values = [faithfulness_avg, relevance_avg, context_avg]\n",
    "\n",
    "_, ax = plt.subplots()\n",
    "ax.bar(labels, values)\n",
    "ax.set_ylim(0, 1)\n",
    "ax.set_ylabel(\"Average Score\")\n",
    "ax.set_xlabel(\"Evaluation Metric\")\n",
    "ax.set_title(\"ASL Evaluation Scores\")\n",
    "plt.show()"
   ]
  }
 ],
 "metadata": {
  "kernelspec": {
   "display_name": "aiml25-ma2",
   "language": "python",
   "name": "python3"
  },
  "language_info": {
   "codemirror_mode": {
    "name": "ipython",
    "version": 3
   },
   "file_extension": ".py",
   "mimetype": "text/x-python",
   "name": "python",
   "nbconvert_exporter": "python",
   "pygments_lexer": "ipython3",
   "version": "3.11.11"
  }
 },
 "nbformat": 4,
 "nbformat_minor": 2
}
